{
 "cells": [
  {
   "cell_type": "markdown",
   "metadata": {},
   "source": [
    "# **Exploratory Data Analysis (EDA) of the EDA OD Student Satisfaction Survey.**"
   ]
  },
  {
   "cell_type": "markdown",
   "metadata": {},
   "source": [
    "**1 . Importing Libraries.**"
   ]
  },
  {
   "cell_type": "code",
   "execution_count": 40,
   "metadata": {},
   "outputs": [],
   "source": [
    "import pandas as pd \n",
    "import numpy as np\n",
    "import matplotlib.pyplot as plt\n",
    "import plotly.express as px \n",
    "import seaborn as sns \n",
    "import warnings"
   ]
  },
  {
   "cell_type": "markdown",
   "metadata": {},
   "source": [
    "**2. Loading Dataset.**"
   ]
  },
  {
   "cell_type": "code",
   "execution_count": 41,
   "metadata": {},
   "outputs": [
    {
     "data": {
      "text/html": [
       "<div>\n",
       "<style scoped>\n",
       "    .dataframe tbody tr th:only-of-type {\n",
       "        vertical-align: middle;\n",
       "    }\n",
       "\n",
       "    .dataframe tbody tr th {\n",
       "        vertical-align: top;\n",
       "    }\n",
       "\n",
       "    .dataframe thead th {\n",
       "        text-align: right;\n",
       "    }\n",
       "</style>\n",
       "<table border=\"1\" class=\"dataframe\">\n",
       "  <thead>\n",
       "    <tr style=\"text-align: right;\">\n",
       "      <th></th>\n",
       "      <th>SN</th>\n",
       "      <th>Total Feedback Given</th>\n",
       "      <th>Total Configured</th>\n",
       "      <th>Questions</th>\n",
       "      <th>Weightage 1</th>\n",
       "      <th>Weightage 2</th>\n",
       "      <th>Weightage 3</th>\n",
       "      <th>Weightage 4</th>\n",
       "      <th>Weightage 5</th>\n",
       "      <th>Average/ Percentage</th>\n",
       "      <th>Course Name</th>\n",
       "      <th>Basic Course</th>\n",
       "    </tr>\n",
       "  </thead>\n",
       "  <tbody>\n",
       "    <tr>\n",
       "      <th>0</th>\n",
       "      <td>1</td>\n",
       "      <td>1</td>\n",
       "      <td>12</td>\n",
       "      <td>How much of the syllabus was covered in the cl...</td>\n",
       "      <td>0</td>\n",
       "      <td>0</td>\n",
       "      <td>1</td>\n",
       "      <td>0</td>\n",
       "      <td>0</td>\n",
       "      <td>3.00 / 60.00</td>\n",
       "      <td>FY B.VOC FOOD TECHNOLOGY</td>\n",
       "      <td>B.VOC FOOD TECHNOLOGY</td>\n",
       "    </tr>\n",
       "    <tr>\n",
       "      <th>1</th>\n",
       "      <td>2</td>\n",
       "      <td>1</td>\n",
       "      <td>12</td>\n",
       "      <td>How well did the teachers prepare for the clas...</td>\n",
       "      <td>0</td>\n",
       "      <td>0</td>\n",
       "      <td>0</td>\n",
       "      <td>0</td>\n",
       "      <td>1</td>\n",
       "      <td>5.00 / 100.00</td>\n",
       "      <td>FY B.VOC FOOD TECHNOLOGY</td>\n",
       "      <td>B.VOC FOOD TECHNOLOGY</td>\n",
       "    </tr>\n",
       "    <tr>\n",
       "      <th>2</th>\n",
       "      <td>3</td>\n",
       "      <td>1</td>\n",
       "      <td>12</td>\n",
       "      <td>How well were the teachers able to communicate?</td>\n",
       "      <td>0</td>\n",
       "      <td>0</td>\n",
       "      <td>0</td>\n",
       "      <td>0</td>\n",
       "      <td>1</td>\n",
       "      <td>5.00 / 100.00</td>\n",
       "      <td>FY B.VOC FOOD TECHNOLOGY</td>\n",
       "      <td>B.VOC FOOD TECHNOLOGY</td>\n",
       "    </tr>\n",
       "    <tr>\n",
       "      <th>3</th>\n",
       "      <td>4</td>\n",
       "      <td>1</td>\n",
       "      <td>12</td>\n",
       "      <td>The teachers approach to teaching can best be...</td>\n",
       "      <td>0</td>\n",
       "      <td>0</td>\n",
       "      <td>1</td>\n",
       "      <td>0</td>\n",
       "      <td>0</td>\n",
       "      <td>3.00 / 60.00</td>\n",
       "      <td>FY B.VOC FOOD TECHNOLOGY</td>\n",
       "      <td>B.VOC FOOD TECHNOLOGY</td>\n",
       "    </tr>\n",
       "    <tr>\n",
       "      <th>4</th>\n",
       "      <td>5</td>\n",
       "      <td>1</td>\n",
       "      <td>12</td>\n",
       "      <td>Fairness of the internal evaluation process by...</td>\n",
       "      <td>0</td>\n",
       "      <td>0</td>\n",
       "      <td>0</td>\n",
       "      <td>1</td>\n",
       "      <td>0</td>\n",
       "      <td>4.00 / 80.00</td>\n",
       "      <td>FY B.VOC FOOD TECHNOLOGY</td>\n",
       "      <td>B.VOC FOOD TECHNOLOGY</td>\n",
       "    </tr>\n",
       "    <tr>\n",
       "      <th>...</th>\n",
       "      <td>...</td>\n",
       "      <td>...</td>\n",
       "      <td>...</td>\n",
       "      <td>...</td>\n",
       "      <td>...</td>\n",
       "      <td>...</td>\n",
       "      <td>...</td>\n",
       "      <td>...</td>\n",
       "      <td>...</td>\n",
       "      <td>...</td>\n",
       "      <td>...</td>\n",
       "      <td>...</td>\n",
       "    </tr>\n",
       "    <tr>\n",
       "      <th>575</th>\n",
       "      <td>16</td>\n",
       "      <td>9</td>\n",
       "      <td>170</td>\n",
       "      <td>The institute/ teachers use student-centric me...</td>\n",
       "      <td>1</td>\n",
       "      <td>0</td>\n",
       "      <td>0</td>\n",
       "      <td>2</td>\n",
       "      <td>6</td>\n",
       "      <td>4.33 / 86.67</td>\n",
       "      <td>TYBSC</td>\n",
       "      <td>BACHELOR OF SCIENCE</td>\n",
       "    </tr>\n",
       "    <tr>\n",
       "      <th>576</th>\n",
       "      <td>17</td>\n",
       "      <td>9</td>\n",
       "      <td>170</td>\n",
       "      <td>Teachers encourage you to participate in extra...</td>\n",
       "      <td>0</td>\n",
       "      <td>0</td>\n",
       "      <td>0</td>\n",
       "      <td>3</td>\n",
       "      <td>6</td>\n",
       "      <td>4.67 / 93.33</td>\n",
       "      <td>TYBSC</td>\n",
       "      <td>BACHELOR OF SCIENCE</td>\n",
       "    </tr>\n",
       "    <tr>\n",
       "      <th>577</th>\n",
       "      <td>18</td>\n",
       "      <td>9</td>\n",
       "      <td>170</td>\n",
       "      <td>Efforts are made by the institute/ teachers to...</td>\n",
       "      <td>0</td>\n",
       "      <td>0</td>\n",
       "      <td>1</td>\n",
       "      <td>2</td>\n",
       "      <td>6</td>\n",
       "      <td>4.56 / 91.11</td>\n",
       "      <td>TYBSC</td>\n",
       "      <td>BACHELOR OF SCIENCE</td>\n",
       "    </tr>\n",
       "    <tr>\n",
       "      <th>578</th>\n",
       "      <td>19</td>\n",
       "      <td>9</td>\n",
       "      <td>170</td>\n",
       "      <td>What percentage of teachers use ICT tools such...</td>\n",
       "      <td>0</td>\n",
       "      <td>0</td>\n",
       "      <td>1</td>\n",
       "      <td>3</td>\n",
       "      <td>5</td>\n",
       "      <td>4.44 / 88.89</td>\n",
       "      <td>TYBSC</td>\n",
       "      <td>BACHELOR OF SCIENCE</td>\n",
       "    </tr>\n",
       "    <tr>\n",
       "      <th>579</th>\n",
       "      <td>20</td>\n",
       "      <td>9</td>\n",
       "      <td>170</td>\n",
       "      <td>The overall quality of the teaching-learning p...</td>\n",
       "      <td>0</td>\n",
       "      <td>0</td>\n",
       "      <td>1</td>\n",
       "      <td>2</td>\n",
       "      <td>6</td>\n",
       "      <td>4.56 / 91.11</td>\n",
       "      <td>TYBSC</td>\n",
       "      <td>BACHELOR OF SCIENCE</td>\n",
       "    </tr>\n",
       "  </tbody>\n",
       "</table>\n",
       "<p>580 rows × 12 columns</p>\n",
       "</div>"
      ],
      "text/plain": [
       "     SN  Total Feedback Given  Total Configured  \\\n",
       "0     1                     1                12   \n",
       "1     2                     1                12   \n",
       "2     3                     1                12   \n",
       "3     4                     1                12   \n",
       "4     5                     1                12   \n",
       "..   ..                   ...               ...   \n",
       "575  16                     9               170   \n",
       "576  17                     9               170   \n",
       "577  18                     9               170   \n",
       "578  19                     9               170   \n",
       "579  20                     9               170   \n",
       "\n",
       "                                             Questions  Weightage 1  \\\n",
       "0    How much of the syllabus was covered in the cl...            0   \n",
       "1    How well did the teachers prepare for the clas...            0   \n",
       "2      How well were the teachers able to communicate?            0   \n",
       "3    The teachers approach to teaching can best be...            0   \n",
       "4    Fairness of the internal evaluation process by...            0   \n",
       "..                                                 ...          ...   \n",
       "575  The institute/ teachers use student-centric me...            1   \n",
       "576  Teachers encourage you to participate in extra...            0   \n",
       "577  Efforts are made by the institute/ teachers to...            0   \n",
       "578  What percentage of teachers use ICT tools such...            0   \n",
       "579  The overall quality of the teaching-learning p...            0   \n",
       "\n",
       "     Weightage 2  Weightage 3  Weightage 4  Weightage 5 Average/ Percentage  \\\n",
       "0              0            1            0            0        3.00 / 60.00   \n",
       "1              0            0            0            1       5.00 / 100.00   \n",
       "2              0            0            0            1       5.00 / 100.00   \n",
       "3              0            1            0            0        3.00 / 60.00   \n",
       "4              0            0            1            0        4.00 / 80.00   \n",
       "..           ...          ...          ...          ...                 ...   \n",
       "575            0            0            2            6        4.33 / 86.67   \n",
       "576            0            0            3            6        4.67 / 93.33   \n",
       "577            0            1            2            6        4.56 / 91.11   \n",
       "578            0            1            3            5        4.44 / 88.89   \n",
       "579            0            1            2            6        4.56 / 91.11   \n",
       "\n",
       "                 Course Name            Basic Course  \n",
       "0    FY B.VOC FOOD TECHNOLOGY  B.VOC FOOD TECHNOLOGY  \n",
       "1    FY B.VOC FOOD TECHNOLOGY  B.VOC FOOD TECHNOLOGY  \n",
       "2    FY B.VOC FOOD TECHNOLOGY  B.VOC FOOD TECHNOLOGY  \n",
       "3    FY B.VOC FOOD TECHNOLOGY  B.VOC FOOD TECHNOLOGY  \n",
       "4    FY B.VOC FOOD TECHNOLOGY  B.VOC FOOD TECHNOLOGY  \n",
       "..                        ...                    ...  \n",
       "575                    TYBSC     BACHELOR OF SCIENCE  \n",
       "576                    TYBSC     BACHELOR OF SCIENCE  \n",
       "577                    TYBSC     BACHELOR OF SCIENCE  \n",
       "578                    TYBSC     BACHELOR OF SCIENCE  \n",
       "579                    TYBSC     BACHELOR OF SCIENCE  \n",
       "\n",
       "[580 rows x 12 columns]"
      ]
     },
     "execution_count": 41,
     "metadata": {},
     "output_type": "execute_result"
    }
   ],
   "source": [
    "df = pd.read_csv('Student_Satisfaction_Survey.csv', encoding= 'latin-1')\n",
    "df"
   ]
  },
  {
   "cell_type": "markdown",
   "metadata": {},
   "source": [
    "**3. Exploring the data.**"
   ]
  },
  {
   "cell_type": "code",
   "execution_count": 42,
   "metadata": {},
   "outputs": [
    {
     "data": {
      "text/html": [
       "<div>\n",
       "<style scoped>\n",
       "    .dataframe tbody tr th:only-of-type {\n",
       "        vertical-align: middle;\n",
       "    }\n",
       "\n",
       "    .dataframe tbody tr th {\n",
       "        vertical-align: top;\n",
       "    }\n",
       "\n",
       "    .dataframe thead th {\n",
       "        text-align: right;\n",
       "    }\n",
       "</style>\n",
       "<table border=\"1\" class=\"dataframe\">\n",
       "  <thead>\n",
       "    <tr style=\"text-align: right;\">\n",
       "      <th></th>\n",
       "      <th>SN</th>\n",
       "      <th>Total Feedback Given</th>\n",
       "      <th>Total Configured</th>\n",
       "      <th>Questions</th>\n",
       "      <th>Weightage 1</th>\n",
       "      <th>Weightage 2</th>\n",
       "      <th>Weightage 3</th>\n",
       "      <th>Weightage 4</th>\n",
       "      <th>Weightage 5</th>\n",
       "      <th>Average/ Percentage</th>\n",
       "      <th>Course Name</th>\n",
       "      <th>Basic Course</th>\n",
       "    </tr>\n",
       "  </thead>\n",
       "  <tbody>\n",
       "    <tr>\n",
       "      <th>0</th>\n",
       "      <td>1</td>\n",
       "      <td>1</td>\n",
       "      <td>12</td>\n",
       "      <td>How much of the syllabus was covered in the cl...</td>\n",
       "      <td>0</td>\n",
       "      <td>0</td>\n",
       "      <td>1</td>\n",
       "      <td>0</td>\n",
       "      <td>0</td>\n",
       "      <td>3.00 / 60.00</td>\n",
       "      <td>FY B.VOC FOOD TECHNOLOGY</td>\n",
       "      <td>B.VOC FOOD TECHNOLOGY</td>\n",
       "    </tr>\n",
       "    <tr>\n",
       "      <th>1</th>\n",
       "      <td>2</td>\n",
       "      <td>1</td>\n",
       "      <td>12</td>\n",
       "      <td>How well did the teachers prepare for the clas...</td>\n",
       "      <td>0</td>\n",
       "      <td>0</td>\n",
       "      <td>0</td>\n",
       "      <td>0</td>\n",
       "      <td>1</td>\n",
       "      <td>5.00 / 100.00</td>\n",
       "      <td>FY B.VOC FOOD TECHNOLOGY</td>\n",
       "      <td>B.VOC FOOD TECHNOLOGY</td>\n",
       "    </tr>\n",
       "    <tr>\n",
       "      <th>2</th>\n",
       "      <td>3</td>\n",
       "      <td>1</td>\n",
       "      <td>12</td>\n",
       "      <td>How well were the teachers able to communicate?</td>\n",
       "      <td>0</td>\n",
       "      <td>0</td>\n",
       "      <td>0</td>\n",
       "      <td>0</td>\n",
       "      <td>1</td>\n",
       "      <td>5.00 / 100.00</td>\n",
       "      <td>FY B.VOC FOOD TECHNOLOGY</td>\n",
       "      <td>B.VOC FOOD TECHNOLOGY</td>\n",
       "    </tr>\n",
       "    <tr>\n",
       "      <th>3</th>\n",
       "      <td>4</td>\n",
       "      <td>1</td>\n",
       "      <td>12</td>\n",
       "      <td>The teachers approach to teaching can best be...</td>\n",
       "      <td>0</td>\n",
       "      <td>0</td>\n",
       "      <td>1</td>\n",
       "      <td>0</td>\n",
       "      <td>0</td>\n",
       "      <td>3.00 / 60.00</td>\n",
       "      <td>FY B.VOC FOOD TECHNOLOGY</td>\n",
       "      <td>B.VOC FOOD TECHNOLOGY</td>\n",
       "    </tr>\n",
       "    <tr>\n",
       "      <th>4</th>\n",
       "      <td>5</td>\n",
       "      <td>1</td>\n",
       "      <td>12</td>\n",
       "      <td>Fairness of the internal evaluation process by...</td>\n",
       "      <td>0</td>\n",
       "      <td>0</td>\n",
       "      <td>0</td>\n",
       "      <td>1</td>\n",
       "      <td>0</td>\n",
       "      <td>4.00 / 80.00</td>\n",
       "      <td>FY B.VOC FOOD TECHNOLOGY</td>\n",
       "      <td>B.VOC FOOD TECHNOLOGY</td>\n",
       "    </tr>\n",
       "    <tr>\n",
       "      <th>5</th>\n",
       "      <td>6</td>\n",
       "      <td>1</td>\n",
       "      <td>12</td>\n",
       "      <td>Was your performance in assignments discussed ...</td>\n",
       "      <td>0</td>\n",
       "      <td>0</td>\n",
       "      <td>0</td>\n",
       "      <td>1</td>\n",
       "      <td>0</td>\n",
       "      <td>4.00 / 80.00</td>\n",
       "      <td>FY B.VOC FOOD TECHNOLOGY</td>\n",
       "      <td>B.VOC FOOD TECHNOLOGY</td>\n",
       "    </tr>\n",
       "    <tr>\n",
       "      <th>6</th>\n",
       "      <td>7</td>\n",
       "      <td>1</td>\n",
       "      <td>12</td>\n",
       "      <td>The institute takes an active interest in prom...</td>\n",
       "      <td>0</td>\n",
       "      <td>0</td>\n",
       "      <td>1</td>\n",
       "      <td>0</td>\n",
       "      <td>0</td>\n",
       "      <td>3.00 / 60.00</td>\n",
       "      <td>FY B.VOC FOOD TECHNOLOGY</td>\n",
       "      <td>B.VOC FOOD TECHNOLOGY</td>\n",
       "    </tr>\n",
       "    <tr>\n",
       "      <th>7</th>\n",
       "      <td>8</td>\n",
       "      <td>1</td>\n",
       "      <td>12</td>\n",
       "      <td>The teaching and mentoring process in your ins...</td>\n",
       "      <td>0</td>\n",
       "      <td>1</td>\n",
       "      <td>0</td>\n",
       "      <td>0</td>\n",
       "      <td>0</td>\n",
       "      <td>2.00 / 40.00</td>\n",
       "      <td>FY B.VOC FOOD TECHNOLOGY</td>\n",
       "      <td>B.VOC FOOD TECHNOLOGY</td>\n",
       "    </tr>\n",
       "    <tr>\n",
       "      <th>8</th>\n",
       "      <td>9</td>\n",
       "      <td>1</td>\n",
       "      <td>12</td>\n",
       "      <td>The institution provides multiple opportunitie...</td>\n",
       "      <td>0</td>\n",
       "      <td>0</td>\n",
       "      <td>0</td>\n",
       "      <td>1</td>\n",
       "      <td>0</td>\n",
       "      <td>4.00 / 80.00</td>\n",
       "      <td>FY B.VOC FOOD TECHNOLOGY</td>\n",
       "      <td>B.VOC FOOD TECHNOLOGY</td>\n",
       "    </tr>\n",
       "    <tr>\n",
       "      <th>9</th>\n",
       "      <td>10</td>\n",
       "      <td>1</td>\n",
       "      <td>12</td>\n",
       "      <td>Teachers inform you about your expected compet...</td>\n",
       "      <td>0</td>\n",
       "      <td>0</td>\n",
       "      <td>1</td>\n",
       "      <td>0</td>\n",
       "      <td>0</td>\n",
       "      <td>3.00 / 60.00</td>\n",
       "      <td>FY B.VOC FOOD TECHNOLOGY</td>\n",
       "      <td>B.VOC FOOD TECHNOLOGY</td>\n",
       "    </tr>\n",
       "  </tbody>\n",
       "</table>\n",
       "</div>"
      ],
      "text/plain": [
       "   SN  Total Feedback Given  Total Configured  \\\n",
       "0   1                     1                12   \n",
       "1   2                     1                12   \n",
       "2   3                     1                12   \n",
       "3   4                     1                12   \n",
       "4   5                     1                12   \n",
       "5   6                     1                12   \n",
       "6   7                     1                12   \n",
       "7   8                     1                12   \n",
       "8   9                     1                12   \n",
       "9  10                     1                12   \n",
       "\n",
       "                                           Questions  Weightage 1  \\\n",
       "0  How much of the syllabus was covered in the cl...            0   \n",
       "1  How well did the teachers prepare for the clas...            0   \n",
       "2    How well were the teachers able to communicate?            0   \n",
       "3  The teachers approach to teaching can best be...            0   \n",
       "4  Fairness of the internal evaluation process by...            0   \n",
       "5  Was your performance in assignments discussed ...            0   \n",
       "6  The institute takes an active interest in prom...            0   \n",
       "7  The teaching and mentoring process in your ins...            0   \n",
       "8  The institution provides multiple opportunitie...            0   \n",
       "9  Teachers inform you about your expected compet...            0   \n",
       "\n",
       "   Weightage 2  Weightage 3  Weightage 4  Weightage 5 Average/ Percentage  \\\n",
       "0            0            1            0            0        3.00 / 60.00   \n",
       "1            0            0            0            1       5.00 / 100.00   \n",
       "2            0            0            0            1       5.00 / 100.00   \n",
       "3            0            1            0            0        3.00 / 60.00   \n",
       "4            0            0            1            0        4.00 / 80.00   \n",
       "5            0            0            1            0        4.00 / 80.00   \n",
       "6            0            1            0            0        3.00 / 60.00   \n",
       "7            1            0            0            0        2.00 / 40.00   \n",
       "8            0            0            1            0        4.00 / 80.00   \n",
       "9            0            1            0            0        3.00 / 60.00   \n",
       "\n",
       "               Course Name            Basic Course  \n",
       "0  FY B.VOC FOOD TECHNOLOGY  B.VOC FOOD TECHNOLOGY  \n",
       "1  FY B.VOC FOOD TECHNOLOGY  B.VOC FOOD TECHNOLOGY  \n",
       "2  FY B.VOC FOOD TECHNOLOGY  B.VOC FOOD TECHNOLOGY  \n",
       "3  FY B.VOC FOOD TECHNOLOGY  B.VOC FOOD TECHNOLOGY  \n",
       "4  FY B.VOC FOOD TECHNOLOGY  B.VOC FOOD TECHNOLOGY  \n",
       "5  FY B.VOC FOOD TECHNOLOGY  B.VOC FOOD TECHNOLOGY  \n",
       "6  FY B.VOC FOOD TECHNOLOGY  B.VOC FOOD TECHNOLOGY  \n",
       "7  FY B.VOC FOOD TECHNOLOGY  B.VOC FOOD TECHNOLOGY  \n",
       "8  FY B.VOC FOOD TECHNOLOGY  B.VOC FOOD TECHNOLOGY  \n",
       "9  FY B.VOC FOOD TECHNOLOGY  B.VOC FOOD TECHNOLOGY  "
      ]
     },
     "execution_count": 42,
     "metadata": {},
     "output_type": "execute_result"
    }
   ],
   "source": [
    "df.head(10)"
   ]
  },
  {
   "cell_type": "code",
   "execution_count": 43,
   "metadata": {},
   "outputs": [
    {
     "data": {
      "text/html": [
       "<div>\n",
       "<style scoped>\n",
       "    .dataframe tbody tr th:only-of-type {\n",
       "        vertical-align: middle;\n",
       "    }\n",
       "\n",
       "    .dataframe tbody tr th {\n",
       "        vertical-align: top;\n",
       "    }\n",
       "\n",
       "    .dataframe thead th {\n",
       "        text-align: right;\n",
       "    }\n",
       "</style>\n",
       "<table border=\"1\" class=\"dataframe\">\n",
       "  <thead>\n",
       "    <tr style=\"text-align: right;\">\n",
       "      <th></th>\n",
       "      <th>SN</th>\n",
       "      <th>Total Feedback Given</th>\n",
       "      <th>Total Configured</th>\n",
       "      <th>Questions</th>\n",
       "      <th>Weightage 1</th>\n",
       "      <th>Weightage 2</th>\n",
       "      <th>Weightage 3</th>\n",
       "      <th>Weightage 4</th>\n",
       "      <th>Weightage 5</th>\n",
       "      <th>Average/ Percentage</th>\n",
       "      <th>Course Name</th>\n",
       "      <th>Basic Course</th>\n",
       "    </tr>\n",
       "  </thead>\n",
       "  <tbody>\n",
       "    <tr>\n",
       "      <th>575</th>\n",
       "      <td>16</td>\n",
       "      <td>9</td>\n",
       "      <td>170</td>\n",
       "      <td>The institute/ teachers use student-centric me...</td>\n",
       "      <td>1</td>\n",
       "      <td>0</td>\n",
       "      <td>0</td>\n",
       "      <td>2</td>\n",
       "      <td>6</td>\n",
       "      <td>4.33 / 86.67</td>\n",
       "      <td>TYBSC</td>\n",
       "      <td>BACHELOR OF SCIENCE</td>\n",
       "    </tr>\n",
       "    <tr>\n",
       "      <th>576</th>\n",
       "      <td>17</td>\n",
       "      <td>9</td>\n",
       "      <td>170</td>\n",
       "      <td>Teachers encourage you to participate in extra...</td>\n",
       "      <td>0</td>\n",
       "      <td>0</td>\n",
       "      <td>0</td>\n",
       "      <td>3</td>\n",
       "      <td>6</td>\n",
       "      <td>4.67 / 93.33</td>\n",
       "      <td>TYBSC</td>\n",
       "      <td>BACHELOR OF SCIENCE</td>\n",
       "    </tr>\n",
       "    <tr>\n",
       "      <th>577</th>\n",
       "      <td>18</td>\n",
       "      <td>9</td>\n",
       "      <td>170</td>\n",
       "      <td>Efforts are made by the institute/ teachers to...</td>\n",
       "      <td>0</td>\n",
       "      <td>0</td>\n",
       "      <td>1</td>\n",
       "      <td>2</td>\n",
       "      <td>6</td>\n",
       "      <td>4.56 / 91.11</td>\n",
       "      <td>TYBSC</td>\n",
       "      <td>BACHELOR OF SCIENCE</td>\n",
       "    </tr>\n",
       "    <tr>\n",
       "      <th>578</th>\n",
       "      <td>19</td>\n",
       "      <td>9</td>\n",
       "      <td>170</td>\n",
       "      <td>What percentage of teachers use ICT tools such...</td>\n",
       "      <td>0</td>\n",
       "      <td>0</td>\n",
       "      <td>1</td>\n",
       "      <td>3</td>\n",
       "      <td>5</td>\n",
       "      <td>4.44 / 88.89</td>\n",
       "      <td>TYBSC</td>\n",
       "      <td>BACHELOR OF SCIENCE</td>\n",
       "    </tr>\n",
       "    <tr>\n",
       "      <th>579</th>\n",
       "      <td>20</td>\n",
       "      <td>9</td>\n",
       "      <td>170</td>\n",
       "      <td>The overall quality of the teaching-learning p...</td>\n",
       "      <td>0</td>\n",
       "      <td>0</td>\n",
       "      <td>1</td>\n",
       "      <td>2</td>\n",
       "      <td>6</td>\n",
       "      <td>4.56 / 91.11</td>\n",
       "      <td>TYBSC</td>\n",
       "      <td>BACHELOR OF SCIENCE</td>\n",
       "    </tr>\n",
       "  </tbody>\n",
       "</table>\n",
       "</div>"
      ],
      "text/plain": [
       "     SN  Total Feedback Given  Total Configured  \\\n",
       "575  16                     9               170   \n",
       "576  17                     9               170   \n",
       "577  18                     9               170   \n",
       "578  19                     9               170   \n",
       "579  20                     9               170   \n",
       "\n",
       "                                             Questions  Weightage 1  \\\n",
       "575  The institute/ teachers use student-centric me...            1   \n",
       "576  Teachers encourage you to participate in extra...            0   \n",
       "577  Efforts are made by the institute/ teachers to...            0   \n",
       "578  What percentage of teachers use ICT tools such...            0   \n",
       "579  The overall quality of the teaching-learning p...            0   \n",
       "\n",
       "     Weightage 2  Weightage 3  Weightage 4  Weightage 5 Average/ Percentage  \\\n",
       "575            0            0            2            6        4.33 / 86.67   \n",
       "576            0            0            3            6        4.67 / 93.33   \n",
       "577            0            1            2            6        4.56 / 91.11   \n",
       "578            0            1            3            5        4.44 / 88.89   \n",
       "579            0            1            2            6        4.56 / 91.11   \n",
       "\n",
       "    Course Name          Basic Course  \n",
       "575       TYBSC   BACHELOR OF SCIENCE  \n",
       "576       TYBSC   BACHELOR OF SCIENCE  \n",
       "577       TYBSC   BACHELOR OF SCIENCE  \n",
       "578       TYBSC   BACHELOR OF SCIENCE  \n",
       "579       TYBSC   BACHELOR OF SCIENCE  "
      ]
     },
     "execution_count": 43,
     "metadata": {},
     "output_type": "execute_result"
    }
   ],
   "source": [
    "df.tail()"
   ]
  },
  {
   "cell_type": "markdown",
   "metadata": {},
   "source": [
    "**4. Checking data type and their count.**"
   ]
  },
  {
   "cell_type": "code",
   "execution_count": 44,
   "metadata": {},
   "outputs": [
    {
     "name": "stdout",
     "output_type": "stream",
     "text": [
      "<class 'pandas.core.frame.DataFrame'>\n",
      "RangeIndex: 580 entries, 0 to 579\n",
      "Data columns (total 12 columns):\n",
      " #   Column                Non-Null Count  Dtype \n",
      "---  ------                --------------  ----- \n",
      " 0   SN                    580 non-null    int64 \n",
      " 1   Total Feedback Given  580 non-null    int64 \n",
      " 2   Total Configured      580 non-null    int64 \n",
      " 3   Questions             580 non-null    object\n",
      " 4   Weightage 1           580 non-null    int64 \n",
      " 5   Weightage 2           580 non-null    int64 \n",
      " 6   Weightage 3           580 non-null    int64 \n",
      " 7   Weightage 4           580 non-null    int64 \n",
      " 8   Weightage 5           580 non-null    int64 \n",
      " 9   Average/ Percentage   580 non-null    object\n",
      " 10  Course Name           580 non-null    object\n",
      " 11  Basic Course          580 non-null    object\n",
      "dtypes: int64(8), object(4)\n",
      "memory usage: 54.5+ KB\n"
     ]
    }
   ],
   "source": [
    "df.info()"
   ]
  },
  {
   "cell_type": "markdown",
   "metadata": {},
   "source": [
    "**5. Checking For Null Values.**"
   ]
  },
  {
   "cell_type": "code",
   "execution_count": 45,
   "metadata": {},
   "outputs": [
    {
     "data": {
      "text/plain": [
       "SN                      0\n",
       "Total Feedback Given    0\n",
       "Total Configured        0\n",
       "Questions               0\n",
       "Weightage 1             0\n",
       "Weightage 2             0\n",
       "Weightage 3             0\n",
       "Weightage 4             0\n",
       "Weightage 5             0\n",
       "Average/ Percentage     0\n",
       "Course Name             0\n",
       "Basic Course            0\n",
       "dtype: int64"
      ]
     },
     "execution_count": 45,
     "metadata": {},
     "output_type": "execute_result"
    }
   ],
   "source": [
    "df.isnull().sum()"
   ]
  },
  {
   "cell_type": "markdown",
   "metadata": {},
   "source": [
    "**Observation:** There are no Null Values in data."
   ]
  },
  {
   "cell_type": "markdown",
   "metadata": {},
   "source": [
    "**6. Checking For Duplicates in Data.**"
   ]
  },
  {
   "cell_type": "code",
   "execution_count": 46,
   "metadata": {},
   "outputs": [
    {
     "name": "stdout",
     "output_type": "stream",
     "text": [
      "Number of duplicate entries: 0\n"
     ]
    }
   ],
   "source": [
    "duplicates = df.duplicated()\n",
    "print('Number of duplicate entries:', duplicates.sum())"
   ]
  },
  {
   "cell_type": "markdown",
   "metadata": {},
   "source": [
    "**Observation:** There are no Duplicates in data."
   ]
  },
  {
   "cell_type": "markdown",
   "metadata": {},
   "source": [
    "**7. Statistical Summary.**"
   ]
  },
  {
   "cell_type": "code",
   "execution_count": 47,
   "metadata": {},
   "outputs": [
    {
     "data": {
      "text/html": [
       "<div>\n",
       "<style scoped>\n",
       "    .dataframe tbody tr th:only-of-type {\n",
       "        vertical-align: middle;\n",
       "    }\n",
       "\n",
       "    .dataframe tbody tr th {\n",
       "        vertical-align: top;\n",
       "    }\n",
       "\n",
       "    .dataframe thead th {\n",
       "        text-align: right;\n",
       "    }\n",
       "</style>\n",
       "<table border=\"1\" class=\"dataframe\">\n",
       "  <thead>\n",
       "    <tr style=\"text-align: right;\">\n",
       "      <th></th>\n",
       "      <th>SN</th>\n",
       "      <th>Total Feedback Given</th>\n",
       "      <th>Total Configured</th>\n",
       "      <th>Weightage 1</th>\n",
       "      <th>Weightage 2</th>\n",
       "      <th>Weightage 3</th>\n",
       "      <th>Weightage 4</th>\n",
       "      <th>Weightage 5</th>\n",
       "    </tr>\n",
       "  </thead>\n",
       "  <tbody>\n",
       "    <tr>\n",
       "      <th>count</th>\n",
       "      <td>580.000000</td>\n",
       "      <td>580.000000</td>\n",
       "      <td>580.000000</td>\n",
       "      <td>580.000000</td>\n",
       "      <td>580.000000</td>\n",
       "      <td>580.000000</td>\n",
       "      <td>580.000000</td>\n",
       "      <td>580.000000</td>\n",
       "    </tr>\n",
       "    <tr>\n",
       "      <th>mean</th>\n",
       "      <td>10.500000</td>\n",
       "      <td>14.310345</td>\n",
       "      <td>92.517241</td>\n",
       "      <td>0.527586</td>\n",
       "      <td>1.187931</td>\n",
       "      <td>2.537931</td>\n",
       "      <td>5.082759</td>\n",
       "      <td>4.974138</td>\n",
       "    </tr>\n",
       "    <tr>\n",
       "      <th>std</th>\n",
       "      <td>5.771259</td>\n",
       "      <td>16.488031</td>\n",
       "      <td>114.491780</td>\n",
       "      <td>1.305336</td>\n",
       "      <td>1.686334</td>\n",
       "      <td>3.193302</td>\n",
       "      <td>7.288293</td>\n",
       "      <td>6.494931</td>\n",
       "    </tr>\n",
       "    <tr>\n",
       "      <th>min</th>\n",
       "      <td>1.000000</td>\n",
       "      <td>1.000000</td>\n",
       "      <td>12.000000</td>\n",
       "      <td>0.000000</td>\n",
       "      <td>0.000000</td>\n",
       "      <td>0.000000</td>\n",
       "      <td>0.000000</td>\n",
       "      <td>0.000000</td>\n",
       "    </tr>\n",
       "    <tr>\n",
       "      <th>25%</th>\n",
       "      <td>5.750000</td>\n",
       "      <td>3.000000</td>\n",
       "      <td>20.000000</td>\n",
       "      <td>0.000000</td>\n",
       "      <td>0.000000</td>\n",
       "      <td>0.000000</td>\n",
       "      <td>1.000000</td>\n",
       "      <td>1.000000</td>\n",
       "    </tr>\n",
       "    <tr>\n",
       "      <th>50%</th>\n",
       "      <td>10.500000</td>\n",
       "      <td>7.000000</td>\n",
       "      <td>42.000000</td>\n",
       "      <td>0.000000</td>\n",
       "      <td>0.000000</td>\n",
       "      <td>1.000000</td>\n",
       "      <td>3.000000</td>\n",
       "      <td>3.000000</td>\n",
       "    </tr>\n",
       "    <tr>\n",
       "      <th>75%</th>\n",
       "      <td>15.250000</td>\n",
       "      <td>17.000000</td>\n",
       "      <td>123.000000</td>\n",
       "      <td>1.000000</td>\n",
       "      <td>2.000000</td>\n",
       "      <td>3.250000</td>\n",
       "      <td>6.000000</td>\n",
       "      <td>6.000000</td>\n",
       "    </tr>\n",
       "    <tr>\n",
       "      <th>max</th>\n",
       "      <td>20.000000</td>\n",
       "      <td>74.000000</td>\n",
       "      <td>559.000000</td>\n",
       "      <td>19.000000</td>\n",
       "      <td>8.000000</td>\n",
       "      <td>26.000000</td>\n",
       "      <td>52.000000</td>\n",
       "      <td>38.000000</td>\n",
       "    </tr>\n",
       "  </tbody>\n",
       "</table>\n",
       "</div>"
      ],
      "text/plain": [
       "               SN  Total Feedback Given  Total Configured  Weightage 1  \\\n",
       "count  580.000000            580.000000        580.000000   580.000000   \n",
       "mean    10.500000             14.310345         92.517241     0.527586   \n",
       "std      5.771259             16.488031        114.491780     1.305336   \n",
       "min      1.000000              1.000000         12.000000     0.000000   \n",
       "25%      5.750000              3.000000         20.000000     0.000000   \n",
       "50%     10.500000              7.000000         42.000000     0.000000   \n",
       "75%     15.250000             17.000000        123.000000     1.000000   \n",
       "max     20.000000             74.000000        559.000000    19.000000   \n",
       "\n",
       "       Weightage 2  Weightage 3  Weightage 4  Weightage 5  \n",
       "count   580.000000   580.000000   580.000000   580.000000  \n",
       "mean      1.187931     2.537931     5.082759     4.974138  \n",
       "std       1.686334     3.193302     7.288293     6.494931  \n",
       "min       0.000000     0.000000     0.000000     0.000000  \n",
       "25%       0.000000     0.000000     1.000000     1.000000  \n",
       "50%       0.000000     1.000000     3.000000     3.000000  \n",
       "75%       2.000000     3.250000     6.000000     6.000000  \n",
       "max       8.000000    26.000000    52.000000    38.000000  "
      ]
     },
     "execution_count": 47,
     "metadata": {},
     "output_type": "execute_result"
    }
   ],
   "source": [
    "df.describe()"
   ]
  },
  {
   "cell_type": "markdown",
   "metadata": {},
   "source": [
    "**8. Checking For Unique Values and spellings or variables in Data.**"
   ]
  },
  {
   "cell_type": "code",
   "execution_count": 48,
   "metadata": {},
   "outputs": [
    {
     "data": {
      "text/plain": [
       "Index(['SN', 'Total Feedback Given', 'Total Configured', 'Questions',\n",
       "       'Weightage 1', 'Weightage 2', 'Weightage 3', 'Weightage 4',\n",
       "       'Weightage 5', 'Average/ Percentage', 'Course Name ', 'Basic Course'],\n",
       "      dtype='object')"
      ]
     },
     "execution_count": 48,
     "metadata": {},
     "output_type": "execute_result"
    }
   ],
   "source": [
    "df.columns"
   ]
  },
  {
   "cell_type": "code",
   "execution_count": 49,
   "metadata": {},
   "outputs": [
    {
     "data": {
      "text/plain": [
       "SN                       20\n",
       "Total Feedback Given     18\n",
       "Total Configured         24\n",
       "Questions                20\n",
       "Weightage 1              11\n",
       "Weightage 2               9\n",
       "Weightage 3              19\n",
       "Weightage 4              36\n",
       "Weightage 5              35\n",
       "Average/ Percentage     152\n",
       "Course Name              29\n",
       "Basic Course             16\n",
       "dtype: int64"
      ]
     },
     "execution_count": 49,
     "metadata": {},
     "output_type": "execute_result"
    }
   ],
   "source": [
    "df.nunique()"
   ]
  },
  {
   "cell_type": "code",
   "execution_count": 50,
   "metadata": {},
   "outputs": [
    {
     "data": {
      "text/plain": [
       "array(['How much of the syllabus was covered in the class?',\n",
       "       'How well did the teachers prepare for the classes?',\n",
       "       'How well were the teachers able to communicate?',\n",
       "       'The teacher\\x92s approach to teaching can best be described as',\n",
       "       'Fairness of the internal evaluation process by the teachers.',\n",
       "       'Was your performance in assignments discussed with you?',\n",
       "       'The institute takes an active interest in promoting internships, student exchange, field visit opportunities for students.',\n",
       "       'The teaching and mentoring process in your institution facilitates you in cognitive, social and\\nemotional growth.',\n",
       "       'The institution provides multiple opportunities to learn and grow.',\n",
       "       'Teachers inform you about your expected competencies, course outcomes and program\\noutcomes.',\n",
       "       'Your mentor does a necessary follow-up with an assigned task to you.',\n",
       "       'The teachers illustrate the concepts through examples and applications.',\n",
       "       'The teachers identify your strengths and encourage you to provide the proper level of challenges.',\n",
       "       'Teachers are able to identify your weaknesses and help you to overcome them.',\n",
       "       'The institution makes effort to engage students in the monitoring, review and continuous quality improvement of the teaching-learning process.',\n",
       "       'The institute/ teachers use student-centric methods, such as experiential learning, participative learning and problem-solving methodologies for enhancing learning experiences.',\n",
       "       'Teachers encourage you to participate in extracurricular activities.',\n",
       "       'Efforts are made by the institute/ teachers to inculcate soft skills, life skills and employability skills to make you ready for the world of work.',\n",
       "       'What percentage of teachers use ICT tools such as LCD projectors, Multimedia, etc. while teaching?',\n",
       "       'The overall quality of the teaching-learning process in your institute is very good.'],\n",
       "      dtype=object)"
      ]
     },
     "execution_count": 50,
     "metadata": {},
     "output_type": "execute_result"
    }
   ],
   "source": [
    "df['Questions'].unique()"
   ]
  },
  {
   "cell_type": "code",
   "execution_count": 51,
   "metadata": {},
   "outputs": [
    {
     "data": {
      "text/plain": [
       "array(['B.VOC FOOD TECHNOLOGY', 'BACHELOR OF ARTS',\n",
       "       'BACHELOR OF COMMERCE (ACCOUNTING AND FINANCE)',\n",
       "       'BACHELOR OF COMMERCE (BANKING AND INSURANCE)',\n",
       "       'BACHELOR OF MANAGEMENT STUDIES', 'BACHELOR OF SCIENCE',\n",
       "       'MA PSYCHOLOGY', 'MSC COMPUTER SCIENCE',\n",
       "       'MSC ANALYTICAL CHEMISTRY', 'MSC DATA SCIENCE',\n",
       "       'MSC INFORMATION TECHNOLOGY', 'MSC MICROBIOLOGY',\n",
       "       'MSC ORGANIC CHEMISTRY', 'MSC PHYSICS', 'BACHELOR OF COMMERCE',\n",
       "       'B.SC. COMPUTER SCIENCE'], dtype=object)"
      ]
     },
     "execution_count": 51,
     "metadata": {},
     "output_type": "execute_result"
    }
   ],
   "source": [
    "df['Basic Course'].unique()"
   ]
  },
  {
   "cell_type": "code",
   "execution_count": 52,
   "metadata": {},
   "outputs": [
    {
     "data": {
      "text/plain": [
       "array([ 12, 144, 119,  33, 122, 175,  15,  20,  24,  42,  21,  44,  14,\n",
       "        22,  18, 137, 559, 123, 159,  48, 118, 331, 105, 170], dtype=int64)"
      ]
     },
     "execution_count": 52,
     "metadata": {},
     "output_type": "execute_result"
    }
   ],
   "source": [
    "df['Total Configured'].unique()"
   ]
  },
  {
   "cell_type": "code",
   "execution_count": 53,
   "metadata": {},
   "outputs": [
    {
     "data": {
      "text/plain": [
       "array([ 1, 74, 20, 26, 12,  5,  7,  4,  2,  3, 14,  6, 17, 46, 37, 27, 39,\n",
       "        9], dtype=int64)"
      ]
     },
     "execution_count": 53,
     "metadata": {},
     "output_type": "execute_result"
    }
   ],
   "source": [
    "df['Total Feedback Given'].unique()"
   ]
  },
  {
   "cell_type": "markdown",
   "metadata": {},
   "source": [
    "**1. Average Feedbacks given by different Departments for each Question.**"
   ]
  },
  {
   "cell_type": "code",
   "execution_count": 54,
   "metadata": {},
   "outputs": [
    {
     "name": "stdout",
     "output_type": "stream",
     "text": [
      "Basic Course\n",
      "B.SC. COMPUTER SCIENCE                           27.000000\n",
      "B.VOC FOOD TECHNOLOGY                             1.000000\n",
      "BACHELOR OF ARTS                                  9.000000\n",
      "BACHELOR OF COMMERCE                             38.000000\n",
      "BACHELOR OF COMMERCE (ACCOUNTING AND FINANCE)    60.000000\n",
      "BACHELOR OF COMMERCE (BANKING AND INSURANCE)     20.000000\n",
      "BACHELOR OF MANAGEMENT STUDIES                   12.333333\n",
      "BACHELOR OF SCIENCE                               9.333333\n",
      "MA PSYCHOLOGY                                     6.000000\n",
      "MSC ANALYTICAL CHEMISTRY                          8.000000\n",
      "MSC COMPUTER SCIENCE                              5.500000\n",
      "MSC DATA SCIENCE                                  3.000000\n",
      "MSC INFORMATION TECHNOLOGY                        3.500000\n",
      "MSC MICROBIOLOGY                                  8.500000\n",
      "MSC ORGANIC CHEMISTRY                            17.000000\n",
      "MSC PHYSICS                                       2.000000\n",
      "Name: Total Feedback Given, dtype: float64\n"
     ]
    },
    {
     "data": {
      "application/vnd.plotly.v1+json": {
       "config": {
        "plotlyServerURL": "https://plot.ly"
       },
       "data": [
        {
         "alignmentgroup": "True",
         "box": {
          "visible": false
         },
         "hovertemplate": "Total Feedback Given=%{y}<extra></extra>",
         "legendgroup": "",
         "marker": {
          "color": "#636efa"
         },
         "name": "",
         "offsetgroup": "",
         "orientation": "v",
         "scalegroup": "True",
         "showlegend": false,
         "type": "violin",
         "x0": " ",
         "xaxis": "x",
         "y": [
          1,
          1,
          1,
          1,
          1,
          1,
          1,
          1,
          1,
          1,
          1,
          1,
          1,
          1,
          1,
          1,
          1,
          1,
          1,
          1,
          1,
          1,
          1,
          1,
          1,
          1,
          1,
          1,
          1,
          1,
          1,
          1,
          1,
          1,
          1,
          1,
          1,
          1,
          1,
          1,
          74,
          74,
          74,
          74,
          74,
          74,
          74,
          74,
          74,
          74,
          74,
          74,
          74,
          74,
          74,
          74,
          74,
          74,
          74,
          74,
          20,
          20,
          20,
          20,
          20,
          20,
          20,
          20,
          20,
          20,
          20,
          20,
          20,
          20,
          20,
          20,
          20,
          20,
          20,
          20,
          26,
          26,
          26,
          26,
          26,
          26,
          26,
          26,
          26,
          26,
          26,
          26,
          26,
          26,
          26,
          26,
          26,
          26,
          26,
          26,
          12,
          12,
          12,
          12,
          12,
          12,
          12,
          12,
          12,
          12,
          12,
          12,
          12,
          12,
          12,
          12,
          12,
          12,
          12,
          12,
          5,
          5,
          5,
          5,
          5,
          5,
          5,
          5,
          5,
          5,
          5,
          5,
          5,
          5,
          5,
          5,
          5,
          5,
          5,
          5,
          7,
          7,
          7,
          7,
          7,
          7,
          7,
          7,
          7,
          7,
          7,
          7,
          7,
          7,
          7,
          7,
          7,
          7,
          7,
          7,
          4,
          4,
          4,
          4,
          4,
          4,
          4,
          4,
          4,
          4,
          4,
          4,
          4,
          4,
          4,
          4,
          4,
          4,
          4,
          4,
          2,
          2,
          2,
          2,
          2,
          2,
          2,
          2,
          2,
          2,
          2,
          2,
          2,
          2,
          2,
          2,
          2,
          2,
          2,
          2,
          3,
          3,
          3,
          3,
          3,
          3,
          3,
          3,
          3,
          3,
          3,
          3,
          3,
          3,
          3,
          3,
          3,
          3,
          3,
          3,
          1,
          1,
          1,
          1,
          1,
          1,
          1,
          1,
          1,
          1,
          1,
          1,
          1,
          1,
          1,
          1,
          1,
          1,
          1,
          1,
          3,
          3,
          3,
          3,
          3,
          3,
          3,
          3,
          3,
          3,
          3,
          3,
          3,
          3,
          3,
          3,
          3,
          3,
          3,
          3,
          14,
          14,
          14,
          14,
          14,
          14,
          14,
          14,
          14,
          14,
          14,
          14,
          14,
          14,
          14,
          14,
          14,
          14,
          14,
          14,
          7,
          7,
          7,
          7,
          7,
          7,
          7,
          7,
          7,
          7,
          7,
          7,
          7,
          7,
          7,
          7,
          7,
          7,
          7,
          7,
          3,
          3,
          3,
          3,
          3,
          3,
          3,
          3,
          3,
          3,
          3,
          3,
          3,
          3,
          3,
          3,
          3,
          3,
          3,
          3,
          6,
          6,
          6,
          6,
          6,
          6,
          6,
          6,
          6,
          6,
          6,
          6,
          6,
          6,
          6,
          6,
          6,
          6,
          6,
          6,
          14,
          14,
          14,
          14,
          14,
          14,
          14,
          14,
          14,
          14,
          14,
          14,
          14,
          14,
          14,
          14,
          14,
          14,
          14,
          14,
          17,
          17,
          17,
          17,
          17,
          17,
          17,
          17,
          17,
          17,
          17,
          17,
          17,
          17,
          17,
          17,
          17,
          17,
          17,
          17,
          2,
          2,
          2,
          2,
          2,
          2,
          2,
          2,
          2,
          2,
          2,
          2,
          2,
          2,
          2,
          2,
          2,
          2,
          2,
          2,
          46,
          46,
          46,
          46,
          46,
          46,
          46,
          46,
          46,
          46,
          46,
          46,
          46,
          46,
          46,
          46,
          46,
          46,
          46,
          46,
          37,
          37,
          37,
          37,
          37,
          37,
          37,
          37,
          37,
          37,
          37,
          37,
          37,
          37,
          37,
          37,
          37,
          37,
          37,
          37,
          7,
          7,
          7,
          7,
          7,
          7,
          7,
          7,
          7,
          7,
          7,
          7,
          7,
          7,
          7,
          7,
          7,
          7,
          7,
          7,
          7,
          7,
          7,
          7,
          7,
          7,
          7,
          7,
          7,
          7,
          7,
          7,
          7,
          7,
          7,
          7,
          7,
          7,
          7,
          7,
          27,
          27,
          27,
          27,
          27,
          27,
          27,
          27,
          27,
          27,
          27,
          27,
          27,
          27,
          27,
          27,
          27,
          27,
          27,
          27,
          17,
          17,
          17,
          17,
          17,
          17,
          17,
          17,
          17,
          17,
          17,
          17,
          17,
          17,
          17,
          17,
          17,
          17,
          17,
          17,
          39,
          39,
          39,
          39,
          39,
          39,
          39,
          39,
          39,
          39,
          39,
          39,
          39,
          39,
          39,
          39,
          39,
          39,
          39,
          39,
          4,
          4,
          4,
          4,
          4,
          4,
          4,
          4,
          4,
          4,
          4,
          4,
          4,
          4,
          4,
          4,
          4,
          4,
          4,
          4,
          9,
          9,
          9,
          9,
          9,
          9,
          9,
          9,
          9,
          9,
          9,
          9,
          9,
          9,
          9,
          9,
          9,
          9,
          9,
          9
         ],
         "y0": " ",
         "yaxis": "y"
        }
       ],
       "layout": {
        "legend": {
         "tracegroupgap": 0
        },
        "template": {
         "data": {
          "bar": [
           {
            "error_x": {
             "color": "#2a3f5f"
            },
            "error_y": {
             "color": "#2a3f5f"
            },
            "marker": {
             "line": {
              "color": "#E5ECF6",
              "width": 0.5
             },
             "pattern": {
              "fillmode": "overlay",
              "size": 10,
              "solidity": 0.2
             }
            },
            "type": "bar"
           }
          ],
          "barpolar": [
           {
            "marker": {
             "line": {
              "color": "#E5ECF6",
              "width": 0.5
             },
             "pattern": {
              "fillmode": "overlay",
              "size": 10,
              "solidity": 0.2
             }
            },
            "type": "barpolar"
           }
          ],
          "carpet": [
           {
            "aaxis": {
             "endlinecolor": "#2a3f5f",
             "gridcolor": "white",
             "linecolor": "white",
             "minorgridcolor": "white",
             "startlinecolor": "#2a3f5f"
            },
            "baxis": {
             "endlinecolor": "#2a3f5f",
             "gridcolor": "white",
             "linecolor": "white",
             "minorgridcolor": "white",
             "startlinecolor": "#2a3f5f"
            },
            "type": "carpet"
           }
          ],
          "choropleth": [
           {
            "colorbar": {
             "outlinewidth": 0,
             "ticks": ""
            },
            "type": "choropleth"
           }
          ],
          "contour": [
           {
            "colorbar": {
             "outlinewidth": 0,
             "ticks": ""
            },
            "colorscale": [
             [
              0,
              "#0d0887"
             ],
             [
              0.1111111111111111,
              "#46039f"
             ],
             [
              0.2222222222222222,
              "#7201a8"
             ],
             [
              0.3333333333333333,
              "#9c179e"
             ],
             [
              0.4444444444444444,
              "#bd3786"
             ],
             [
              0.5555555555555556,
              "#d8576b"
             ],
             [
              0.6666666666666666,
              "#ed7953"
             ],
             [
              0.7777777777777778,
              "#fb9f3a"
             ],
             [
              0.8888888888888888,
              "#fdca26"
             ],
             [
              1,
              "#f0f921"
             ]
            ],
            "type": "contour"
           }
          ],
          "contourcarpet": [
           {
            "colorbar": {
             "outlinewidth": 0,
             "ticks": ""
            },
            "type": "contourcarpet"
           }
          ],
          "heatmap": [
           {
            "colorbar": {
             "outlinewidth": 0,
             "ticks": ""
            },
            "colorscale": [
             [
              0,
              "#0d0887"
             ],
             [
              0.1111111111111111,
              "#46039f"
             ],
             [
              0.2222222222222222,
              "#7201a8"
             ],
             [
              0.3333333333333333,
              "#9c179e"
             ],
             [
              0.4444444444444444,
              "#bd3786"
             ],
             [
              0.5555555555555556,
              "#d8576b"
             ],
             [
              0.6666666666666666,
              "#ed7953"
             ],
             [
              0.7777777777777778,
              "#fb9f3a"
             ],
             [
              0.8888888888888888,
              "#fdca26"
             ],
             [
              1,
              "#f0f921"
             ]
            ],
            "type": "heatmap"
           }
          ],
          "heatmapgl": [
           {
            "colorbar": {
             "outlinewidth": 0,
             "ticks": ""
            },
            "colorscale": [
             [
              0,
              "#0d0887"
             ],
             [
              0.1111111111111111,
              "#46039f"
             ],
             [
              0.2222222222222222,
              "#7201a8"
             ],
             [
              0.3333333333333333,
              "#9c179e"
             ],
             [
              0.4444444444444444,
              "#bd3786"
             ],
             [
              0.5555555555555556,
              "#d8576b"
             ],
             [
              0.6666666666666666,
              "#ed7953"
             ],
             [
              0.7777777777777778,
              "#fb9f3a"
             ],
             [
              0.8888888888888888,
              "#fdca26"
             ],
             [
              1,
              "#f0f921"
             ]
            ],
            "type": "heatmapgl"
           }
          ],
          "histogram": [
           {
            "marker": {
             "pattern": {
              "fillmode": "overlay",
              "size": 10,
              "solidity": 0.2
             }
            },
            "type": "histogram"
           }
          ],
          "histogram2d": [
           {
            "colorbar": {
             "outlinewidth": 0,
             "ticks": ""
            },
            "colorscale": [
             [
              0,
              "#0d0887"
             ],
             [
              0.1111111111111111,
              "#46039f"
             ],
             [
              0.2222222222222222,
              "#7201a8"
             ],
             [
              0.3333333333333333,
              "#9c179e"
             ],
             [
              0.4444444444444444,
              "#bd3786"
             ],
             [
              0.5555555555555556,
              "#d8576b"
             ],
             [
              0.6666666666666666,
              "#ed7953"
             ],
             [
              0.7777777777777778,
              "#fb9f3a"
             ],
             [
              0.8888888888888888,
              "#fdca26"
             ],
             [
              1,
              "#f0f921"
             ]
            ],
            "type": "histogram2d"
           }
          ],
          "histogram2dcontour": [
           {
            "colorbar": {
             "outlinewidth": 0,
             "ticks": ""
            },
            "colorscale": [
             [
              0,
              "#0d0887"
             ],
             [
              0.1111111111111111,
              "#46039f"
             ],
             [
              0.2222222222222222,
              "#7201a8"
             ],
             [
              0.3333333333333333,
              "#9c179e"
             ],
             [
              0.4444444444444444,
              "#bd3786"
             ],
             [
              0.5555555555555556,
              "#d8576b"
             ],
             [
              0.6666666666666666,
              "#ed7953"
             ],
             [
              0.7777777777777778,
              "#fb9f3a"
             ],
             [
              0.8888888888888888,
              "#fdca26"
             ],
             [
              1,
              "#f0f921"
             ]
            ],
            "type": "histogram2dcontour"
           }
          ],
          "mesh3d": [
           {
            "colorbar": {
             "outlinewidth": 0,
             "ticks": ""
            },
            "type": "mesh3d"
           }
          ],
          "parcoords": [
           {
            "line": {
             "colorbar": {
              "outlinewidth": 0,
              "ticks": ""
             }
            },
            "type": "parcoords"
           }
          ],
          "pie": [
           {
            "automargin": true,
            "type": "pie"
           }
          ],
          "scatter": [
           {
            "fillpattern": {
             "fillmode": "overlay",
             "size": 10,
             "solidity": 0.2
            },
            "type": "scatter"
           }
          ],
          "scatter3d": [
           {
            "line": {
             "colorbar": {
              "outlinewidth": 0,
              "ticks": ""
             }
            },
            "marker": {
             "colorbar": {
              "outlinewidth": 0,
              "ticks": ""
             }
            },
            "type": "scatter3d"
           }
          ],
          "scattercarpet": [
           {
            "marker": {
             "colorbar": {
              "outlinewidth": 0,
              "ticks": ""
             }
            },
            "type": "scattercarpet"
           }
          ],
          "scattergeo": [
           {
            "marker": {
             "colorbar": {
              "outlinewidth": 0,
              "ticks": ""
             }
            },
            "type": "scattergeo"
           }
          ],
          "scattergl": [
           {
            "marker": {
             "colorbar": {
              "outlinewidth": 0,
              "ticks": ""
             }
            },
            "type": "scattergl"
           }
          ],
          "scattermapbox": [
           {
            "marker": {
             "colorbar": {
              "outlinewidth": 0,
              "ticks": ""
             }
            },
            "type": "scattermapbox"
           }
          ],
          "scatterpolar": [
           {
            "marker": {
             "colorbar": {
              "outlinewidth": 0,
              "ticks": ""
             }
            },
            "type": "scatterpolar"
           }
          ],
          "scatterpolargl": [
           {
            "marker": {
             "colorbar": {
              "outlinewidth": 0,
              "ticks": ""
             }
            },
            "type": "scatterpolargl"
           }
          ],
          "scatterternary": [
           {
            "marker": {
             "colorbar": {
              "outlinewidth": 0,
              "ticks": ""
             }
            },
            "type": "scatterternary"
           }
          ],
          "surface": [
           {
            "colorbar": {
             "outlinewidth": 0,
             "ticks": ""
            },
            "colorscale": [
             [
              0,
              "#0d0887"
             ],
             [
              0.1111111111111111,
              "#46039f"
             ],
             [
              0.2222222222222222,
              "#7201a8"
             ],
             [
              0.3333333333333333,
              "#9c179e"
             ],
             [
              0.4444444444444444,
              "#bd3786"
             ],
             [
              0.5555555555555556,
              "#d8576b"
             ],
             [
              0.6666666666666666,
              "#ed7953"
             ],
             [
              0.7777777777777778,
              "#fb9f3a"
             ],
             [
              0.8888888888888888,
              "#fdca26"
             ],
             [
              1,
              "#f0f921"
             ]
            ],
            "type": "surface"
           }
          ],
          "table": [
           {
            "cells": {
             "fill": {
              "color": "#EBF0F8"
             },
             "line": {
              "color": "white"
             }
            },
            "header": {
             "fill": {
              "color": "#C8D4E3"
             },
             "line": {
              "color": "white"
             }
            },
            "type": "table"
           }
          ]
         },
         "layout": {
          "annotationdefaults": {
           "arrowcolor": "#2a3f5f",
           "arrowhead": 0,
           "arrowwidth": 1
          },
          "autotypenumbers": "strict",
          "coloraxis": {
           "colorbar": {
            "outlinewidth": 0,
            "ticks": ""
           }
          },
          "colorscale": {
           "diverging": [
            [
             0,
             "#8e0152"
            ],
            [
             0.1,
             "#c51b7d"
            ],
            [
             0.2,
             "#de77ae"
            ],
            [
             0.3,
             "#f1b6da"
            ],
            [
             0.4,
             "#fde0ef"
            ],
            [
             0.5,
             "#f7f7f7"
            ],
            [
             0.6,
             "#e6f5d0"
            ],
            [
             0.7,
             "#b8e186"
            ],
            [
             0.8,
             "#7fbc41"
            ],
            [
             0.9,
             "#4d9221"
            ],
            [
             1,
             "#276419"
            ]
           ],
           "sequential": [
            [
             0,
             "#0d0887"
            ],
            [
             0.1111111111111111,
             "#46039f"
            ],
            [
             0.2222222222222222,
             "#7201a8"
            ],
            [
             0.3333333333333333,
             "#9c179e"
            ],
            [
             0.4444444444444444,
             "#bd3786"
            ],
            [
             0.5555555555555556,
             "#d8576b"
            ],
            [
             0.6666666666666666,
             "#ed7953"
            ],
            [
             0.7777777777777778,
             "#fb9f3a"
            ],
            [
             0.8888888888888888,
             "#fdca26"
            ],
            [
             1,
             "#f0f921"
            ]
           ],
           "sequentialminus": [
            [
             0,
             "#0d0887"
            ],
            [
             0.1111111111111111,
             "#46039f"
            ],
            [
             0.2222222222222222,
             "#7201a8"
            ],
            [
             0.3333333333333333,
             "#9c179e"
            ],
            [
             0.4444444444444444,
             "#bd3786"
            ],
            [
             0.5555555555555556,
             "#d8576b"
            ],
            [
             0.6666666666666666,
             "#ed7953"
            ],
            [
             0.7777777777777778,
             "#fb9f3a"
            ],
            [
             0.8888888888888888,
             "#fdca26"
            ],
            [
             1,
             "#f0f921"
            ]
           ]
          },
          "colorway": [
           "#636efa",
           "#EF553B",
           "#00cc96",
           "#ab63fa",
           "#FFA15A",
           "#19d3f3",
           "#FF6692",
           "#B6E880",
           "#FF97FF",
           "#FECB52"
          ],
          "font": {
           "color": "#2a3f5f"
          },
          "geo": {
           "bgcolor": "white",
           "lakecolor": "white",
           "landcolor": "#E5ECF6",
           "showlakes": true,
           "showland": true,
           "subunitcolor": "white"
          },
          "hoverlabel": {
           "align": "left"
          },
          "hovermode": "closest",
          "mapbox": {
           "style": "light"
          },
          "paper_bgcolor": "white",
          "plot_bgcolor": "#E5ECF6",
          "polar": {
           "angularaxis": {
            "gridcolor": "white",
            "linecolor": "white",
            "ticks": ""
           },
           "bgcolor": "#E5ECF6",
           "radialaxis": {
            "gridcolor": "white",
            "linecolor": "white",
            "ticks": ""
           }
          },
          "scene": {
           "xaxis": {
            "backgroundcolor": "#E5ECF6",
            "gridcolor": "white",
            "gridwidth": 2,
            "linecolor": "white",
            "showbackground": true,
            "ticks": "",
            "zerolinecolor": "white"
           },
           "yaxis": {
            "backgroundcolor": "#E5ECF6",
            "gridcolor": "white",
            "gridwidth": 2,
            "linecolor": "white",
            "showbackground": true,
            "ticks": "",
            "zerolinecolor": "white"
           },
           "zaxis": {
            "backgroundcolor": "#E5ECF6",
            "gridcolor": "white",
            "gridwidth": 2,
            "linecolor": "white",
            "showbackground": true,
            "ticks": "",
            "zerolinecolor": "white"
           }
          },
          "shapedefaults": {
           "line": {
            "color": "#2a3f5f"
           }
          },
          "ternary": {
           "aaxis": {
            "gridcolor": "white",
            "linecolor": "white",
            "ticks": ""
           },
           "baxis": {
            "gridcolor": "white",
            "linecolor": "white",
            "ticks": ""
           },
           "bgcolor": "#E5ECF6",
           "caxis": {
            "gridcolor": "white",
            "linecolor": "white",
            "ticks": ""
           }
          },
          "title": {
           "x": 0.05
          },
          "xaxis": {
           "automargin": true,
           "gridcolor": "white",
           "linecolor": "white",
           "ticks": "",
           "title": {
            "standoff": 15
           },
           "zerolinecolor": "white",
           "zerolinewidth": 2
          },
          "yaxis": {
           "automargin": true,
           "gridcolor": "white",
           "linecolor": "white",
           "ticks": "",
           "title": {
            "standoff": 15
           },
           "zerolinecolor": "white",
           "zerolinewidth": 2
          }
         }
        },
        "title": {
         "text": "Distribution of Total Feedback Given"
        },
        "violinmode": "group",
        "xaxis": {
         "anchor": "y",
         "domain": [
          0,
          1
         ]
        },
        "yaxis": {
         "anchor": "x",
         "domain": [
          0,
          1
         ],
         "title": {
          "text": "Total Feedback Given"
         }
        }
       }
      }
     },
     "metadata": {},
     "output_type": "display_data"
    }
   ],
   "source": [
    "feed_back = df.groupby('Basic Course')['Total Feedback Given'].mean()\n",
    "print(feed_back)\n",
    "import plotly.express as px\n",
    "fig = px.violin(df, y='Total Feedback Given', title='Distribution of Total Feedback Given',)\n",
    "fig.show()"
   ]
  },
  {
   "cell_type": "markdown",
   "metadata": {},
   "source": [
    "**2. List of total strength of the batch in Different Courses.**"
   ]
  },
  {
   "cell_type": "code",
   "execution_count": 55,
   "metadata": {},
   "outputs": [
    {
     "name": "stdout",
     "output_type": "stream",
     "text": [
      "    Total Configured                                   Basic Course   0\n",
      "0                 12                          B.VOC FOOD TECHNOLOGY  20\n",
      "1                 14                               MSC DATA SCIENCE  20\n",
      "2                 15                                  MA PSYCHOLOGY  20\n",
      "3                 18                                    MSC PHYSICS  20\n",
      "4                 20                                  MA PSYCHOLOGY  20\n",
      "5                 20                           MSC COMPUTER SCIENCE  20\n",
      "6                 20                               MSC DATA SCIENCE  20\n",
      "7                 20                     MSC INFORMATION TECHNOLOGY  20\n",
      "8                 21                     MSC INFORMATION TECHNOLOGY  20\n",
      "9                 22                          MSC ORGANIC CHEMISTRY  20\n",
      "10                24                           MSC COMPUTER SCIENCE  20\n",
      "11                24                               MSC MICROBIOLOGY  40\n",
      "12                33   BACHELOR OF COMMERCE (BANKING AND INSURANCE)  20\n",
      "13                42                       MSC ANALYTICAL CHEMISTRY  20\n",
      "14                44                       MSC ANALYTICAL CHEMISTRY  20\n",
      "15                48                         B.SC. COMPUTER SCIENCE  20\n",
      "16               105                 BACHELOR OF MANAGEMENT STUDIES  20\n",
      "17               118                               BACHELOR OF ARTS  20\n",
      "18               119  BACHELOR OF COMMERCE (ACCOUNTING AND FINANCE)  20\n",
      "19               122                 BACHELOR OF MANAGEMENT STUDIES  20\n",
      "20               123                 BACHELOR OF MANAGEMENT STUDIES  20\n",
      "21               137  BACHELOR OF COMMERCE (ACCOUNTING AND FINANCE)  20\n",
      "22               144                               BACHELOR OF ARTS  20\n",
      "23               159                            BACHELOR OF SCIENCE  20\n",
      "24               170                            BACHELOR OF SCIENCE  20\n",
      "25               175                            BACHELOR OF SCIENCE  20\n",
      "26               331                           BACHELOR OF COMMERCE  20\n",
      "27               559                           BACHELOR OF COMMERCE  20\n"
     ]
    },
    {
     "data": {
      "image/png": "[encoded data removed]",
      "text/plain": [
       "<Figure size 800x800 with 1 Axes>"
      ]
     },
     "metadata": {},
     "output_type": "display_data"
    }
   ],
   "source": [
    "List1 = df.groupby(['Total Configured','Basic Course']).size().reset_index()\n",
    "df_grouped = df.groupby('Basic Course').size().reset_index(name='Count')\n",
    "print(List1)\n",
    "plt.figure(figsize=(8, 8))\n",
    "plt.pie(df_grouped['Count'], labels=df_grouped['Basic Course'], autopct='%1.1f%%', startangle=90)\n",
    "plt.title('Distribution of Basic Courses')\n",
    "plt.axis('equal')  \n",
    "plt.show()"
   ]
  },
  {
   "cell_type": "markdown",
   "metadata": {},
   "source": [
    "**3. Average Rating Given by Different Departments Across 20 Questions ?**"
   ]
  },
  {
   "cell_type": "code",
   "execution_count": 56,
   "metadata": {},
   "outputs": [
    {
     "ename": "TypeError",
     "evalue": "agg function failed [how->mean,dtype->object]",
     "output_type": "error",
     "traceback": [
      "\u001b[1;31m---------------------------------------------------------------------------\u001b[0m",
      "\u001b[1;31mTypeError\u001b[0m                                 Traceback (most recent call last)",
      "File \u001b[1;32mc:\\Users\\saboor\\miniconda3\\envs\\tf_env\\lib\\site-packages\\pandas\\core\\groupby\\groupby.py:1942\u001b[0m, in \u001b[0;36mGroupBy._agg_py_fallback\u001b[1;34m(self, how, values, ndim, alt)\u001b[0m\n\u001b[0;32m   1941\u001b[0m \u001b[38;5;28;01mtry\u001b[39;00m:\n\u001b[1;32m-> 1942\u001b[0m     res_values \u001b[38;5;241m=\u001b[39m \u001b[38;5;28;43mself\u001b[39;49m\u001b[38;5;241;43m.\u001b[39;49m\u001b[43m_grouper\u001b[49m\u001b[38;5;241;43m.\u001b[39;49m\u001b[43magg_series\u001b[49m\u001b[43m(\u001b[49m\u001b[43mser\u001b[49m\u001b[43m,\u001b[49m\u001b[43m \u001b[49m\u001b[43malt\u001b[49m\u001b[43m,\u001b[49m\u001b[43m \u001b[49m\u001b[43mpreserve_dtype\u001b[49m\u001b[38;5;241;43m=\u001b[39;49m\u001b[38;5;28;43;01mTrue\u001b[39;49;00m\u001b[43m)\u001b[49m\n\u001b[0;32m   1943\u001b[0m \u001b[38;5;28;01mexcept\u001b[39;00m \u001b[38;5;167;01mException\u001b[39;00m \u001b[38;5;28;01mas\u001b[39;00m err:\n",
      "File \u001b[1;32mc:\\Users\\saboor\\miniconda3\\envs\\tf_env\\lib\\site-packages\\pandas\\core\\groupby\\ops.py:864\u001b[0m, in \u001b[0;36mBaseGrouper.agg_series\u001b[1;34m(self, obj, func, preserve_dtype)\u001b[0m\n\u001b[0;32m    862\u001b[0m     preserve_dtype \u001b[38;5;241m=\u001b[39m \u001b[38;5;28;01mTrue\u001b[39;00m\n\u001b[1;32m--> 864\u001b[0m result \u001b[38;5;241m=\u001b[39m \u001b[38;5;28;43mself\u001b[39;49m\u001b[38;5;241;43m.\u001b[39;49m\u001b[43m_aggregate_series_pure_python\u001b[49m\u001b[43m(\u001b[49m\u001b[43mobj\u001b[49m\u001b[43m,\u001b[49m\u001b[43m \u001b[49m\u001b[43mfunc\u001b[49m\u001b[43m)\u001b[49m\n\u001b[0;32m    866\u001b[0m npvalues \u001b[38;5;241m=\u001b[39m lib\u001b[38;5;241m.\u001b[39mmaybe_convert_objects(result, try_float\u001b[38;5;241m=\u001b[39m\u001b[38;5;28;01mFalse\u001b[39;00m)\n",
      "File \u001b[1;32mc:\\Users\\saboor\\miniconda3\\envs\\tf_env\\lib\\site-packages\\pandas\\core\\groupby\\ops.py:885\u001b[0m, in \u001b[0;36mBaseGrouper._aggregate_series_pure_python\u001b[1;34m(self, obj, func)\u001b[0m\n\u001b[0;32m    884\u001b[0m \u001b[38;5;28;01mfor\u001b[39;00m i, group \u001b[38;5;129;01min\u001b[39;00m \u001b[38;5;28menumerate\u001b[39m(splitter):\n\u001b[1;32m--> 885\u001b[0m     res \u001b[38;5;241m=\u001b[39m \u001b[43mfunc\u001b[49m\u001b[43m(\u001b[49m\u001b[43mgroup\u001b[49m\u001b[43m)\u001b[49m\n\u001b[0;32m    886\u001b[0m     res \u001b[38;5;241m=\u001b[39m extract_result(res)\n",
      "File \u001b[1;32mc:\\Users\\saboor\\miniconda3\\envs\\tf_env\\lib\\site-packages\\pandas\\core\\groupby\\groupby.py:2454\u001b[0m, in \u001b[0;36mGroupBy.mean.<locals>.<lambda>\u001b[1;34m(x)\u001b[0m\n\u001b[0;32m   2451\u001b[0m \u001b[38;5;28;01melse\u001b[39;00m:\n\u001b[0;32m   2452\u001b[0m     result \u001b[38;5;241m=\u001b[39m \u001b[38;5;28mself\u001b[39m\u001b[38;5;241m.\u001b[39m_cython_agg_general(\n\u001b[0;32m   2453\u001b[0m         \u001b[38;5;124m\"\u001b[39m\u001b[38;5;124mmean\u001b[39m\u001b[38;5;124m\"\u001b[39m,\n\u001b[1;32m-> 2454\u001b[0m         alt\u001b[38;5;241m=\u001b[39m\u001b[38;5;28;01mlambda\u001b[39;00m x: \u001b[43mSeries\u001b[49m\u001b[43m(\u001b[49m\u001b[43mx\u001b[49m\u001b[43m,\u001b[49m\u001b[43m \u001b[49m\u001b[43mcopy\u001b[49m\u001b[38;5;241;43m=\u001b[39;49m\u001b[38;5;28;43;01mFalse\u001b[39;49;00m\u001b[43m)\u001b[49m\u001b[38;5;241;43m.\u001b[39;49m\u001b[43mmean\u001b[49m\u001b[43m(\u001b[49m\u001b[43mnumeric_only\u001b[49m\u001b[38;5;241;43m=\u001b[39;49m\u001b[43mnumeric_only\u001b[49m\u001b[43m)\u001b[49m,\n\u001b[0;32m   2455\u001b[0m         numeric_only\u001b[38;5;241m=\u001b[39mnumeric_only,\n\u001b[0;32m   2456\u001b[0m     )\n\u001b[0;32m   2457\u001b[0m     \u001b[38;5;28;01mreturn\u001b[39;00m result\u001b[38;5;241m.\u001b[39m__finalize__(\u001b[38;5;28mself\u001b[39m\u001b[38;5;241m.\u001b[39mobj, method\u001b[38;5;241m=\u001b[39m\u001b[38;5;124m\"\u001b[39m\u001b[38;5;124mgroupby\u001b[39m\u001b[38;5;124m\"\u001b[39m)\n",
      "File \u001b[1;32mc:\\Users\\saboor\\miniconda3\\envs\\tf_env\\lib\\site-packages\\pandas\\core\\series.py:6549\u001b[0m, in \u001b[0;36mSeries.mean\u001b[1;34m(self, axis, skipna, numeric_only, **kwargs)\u001b[0m\n\u001b[0;32m   6541\u001b[0m \u001b[38;5;129m@doc\u001b[39m(make_doc(\u001b[38;5;124m\"\u001b[39m\u001b[38;5;124mmean\u001b[39m\u001b[38;5;124m\"\u001b[39m, ndim\u001b[38;5;241m=\u001b[39m\u001b[38;5;241m1\u001b[39m))\n\u001b[0;32m   6542\u001b[0m \u001b[38;5;28;01mdef\u001b[39;00m \u001b[38;5;21mmean\u001b[39m(\n\u001b[0;32m   6543\u001b[0m     \u001b[38;5;28mself\u001b[39m,\n\u001b[1;32m   (...)\u001b[0m\n\u001b[0;32m   6547\u001b[0m     \u001b[38;5;241m*\u001b[39m\u001b[38;5;241m*\u001b[39mkwargs,\n\u001b[0;32m   6548\u001b[0m ):\n\u001b[1;32m-> 6549\u001b[0m     \u001b[38;5;28;01mreturn\u001b[39;00m NDFrame\u001b[38;5;241m.\u001b[39mmean(\u001b[38;5;28mself\u001b[39m, axis, skipna, numeric_only, \u001b[38;5;241m*\u001b[39m\u001b[38;5;241m*\u001b[39mkwargs)\n",
      "File \u001b[1;32mc:\\Users\\saboor\\miniconda3\\envs\\tf_env\\lib\\site-packages\\pandas\\core\\generic.py:12420\u001b[0m, in \u001b[0;36mNDFrame.mean\u001b[1;34m(self, axis, skipna, numeric_only, **kwargs)\u001b[0m\n\u001b[0;32m  12413\u001b[0m \u001b[38;5;28;01mdef\u001b[39;00m \u001b[38;5;21mmean\u001b[39m(\n\u001b[0;32m  12414\u001b[0m     \u001b[38;5;28mself\u001b[39m,\n\u001b[0;32m  12415\u001b[0m     axis: Axis \u001b[38;5;241m|\u001b[39m \u001b[38;5;28;01mNone\u001b[39;00m \u001b[38;5;241m=\u001b[39m \u001b[38;5;241m0\u001b[39m,\n\u001b[1;32m   (...)\u001b[0m\n\u001b[0;32m  12418\u001b[0m     \u001b[38;5;241m*\u001b[39m\u001b[38;5;241m*\u001b[39mkwargs,\n\u001b[0;32m  12419\u001b[0m ) \u001b[38;5;241m-\u001b[39m\u001b[38;5;241m>\u001b[39m Series \u001b[38;5;241m|\u001b[39m \u001b[38;5;28mfloat\u001b[39m:\n\u001b[1;32m> 12420\u001b[0m     \u001b[38;5;28;01mreturn\u001b[39;00m \u001b[38;5;28mself\u001b[39m\u001b[38;5;241m.\u001b[39m_stat_function(\n\u001b[0;32m  12421\u001b[0m         \u001b[38;5;124m\"\u001b[39m\u001b[38;5;124mmean\u001b[39m\u001b[38;5;124m\"\u001b[39m, nanops\u001b[38;5;241m.\u001b[39mnanmean, axis, skipna, numeric_only, \u001b[38;5;241m*\u001b[39m\u001b[38;5;241m*\u001b[39mkwargs\n\u001b[0;32m  12422\u001b[0m     )\n",
      "File \u001b[1;32mc:\\Users\\saboor\\miniconda3\\envs\\tf_env\\lib\\site-packages\\pandas\\core\\generic.py:12377\u001b[0m, in \u001b[0;36mNDFrame._stat_function\u001b[1;34m(self, name, func, axis, skipna, numeric_only, **kwargs)\u001b[0m\n\u001b[0;32m  12375\u001b[0m validate_bool_kwarg(skipna, \u001b[38;5;124m\"\u001b[39m\u001b[38;5;124mskipna\u001b[39m\u001b[38;5;124m\"\u001b[39m, none_allowed\u001b[38;5;241m=\u001b[39m\u001b[38;5;28;01mFalse\u001b[39;00m)\n\u001b[1;32m> 12377\u001b[0m \u001b[38;5;28;01mreturn\u001b[39;00m \u001b[38;5;28;43mself\u001b[39;49m\u001b[38;5;241;43m.\u001b[39;49m\u001b[43m_reduce\u001b[49m\u001b[43m(\u001b[49m\n\u001b[0;32m  12378\u001b[0m \u001b[43m    \u001b[49m\u001b[43mfunc\u001b[49m\u001b[43m,\u001b[49m\u001b[43m \u001b[49m\u001b[43mname\u001b[49m\u001b[38;5;241;43m=\u001b[39;49m\u001b[43mname\u001b[49m\u001b[43m,\u001b[49m\u001b[43m \u001b[49m\u001b[43maxis\u001b[49m\u001b[38;5;241;43m=\u001b[39;49m\u001b[43maxis\u001b[49m\u001b[43m,\u001b[49m\u001b[43m \u001b[49m\u001b[43mskipna\u001b[49m\u001b[38;5;241;43m=\u001b[39;49m\u001b[43mskipna\u001b[49m\u001b[43m,\u001b[49m\u001b[43m \u001b[49m\u001b[43mnumeric_only\u001b[49m\u001b[38;5;241;43m=\u001b[39;49m\u001b[43mnumeric_only\u001b[49m\n\u001b[0;32m  12379\u001b[0m \u001b[43m\u001b[49m\u001b[43m)\u001b[49m\n",
      "File \u001b[1;32mc:\\Users\\saboor\\miniconda3\\envs\\tf_env\\lib\\site-packages\\pandas\\core\\series.py:6457\u001b[0m, in \u001b[0;36mSeries._reduce\u001b[1;34m(self, op, name, axis, skipna, numeric_only, filter_type, **kwds)\u001b[0m\n\u001b[0;32m   6453\u001b[0m     \u001b[38;5;28;01mraise\u001b[39;00m \u001b[38;5;167;01mTypeError\u001b[39;00m(\n\u001b[0;32m   6454\u001b[0m         \u001b[38;5;124mf\u001b[39m\u001b[38;5;124m\"\u001b[39m\u001b[38;5;124mSeries.\u001b[39m\u001b[38;5;132;01m{\u001b[39;00mname\u001b[38;5;132;01m}\u001b[39;00m\u001b[38;5;124m does not allow \u001b[39m\u001b[38;5;132;01m{\u001b[39;00mkwd_name\u001b[38;5;132;01m}\u001b[39;00m\u001b[38;5;124m=\u001b[39m\u001b[38;5;132;01m{\u001b[39;00mnumeric_only\u001b[38;5;132;01m}\u001b[39;00m\u001b[38;5;124m \u001b[39m\u001b[38;5;124m\"\u001b[39m\n\u001b[0;32m   6455\u001b[0m         \u001b[38;5;124m\"\u001b[39m\u001b[38;5;124mwith non-numeric dtypes.\u001b[39m\u001b[38;5;124m\"\u001b[39m\n\u001b[0;32m   6456\u001b[0m     )\n\u001b[1;32m-> 6457\u001b[0m \u001b[38;5;28;01mreturn\u001b[39;00m op(delegate, skipna\u001b[38;5;241m=\u001b[39mskipna, \u001b[38;5;241m*\u001b[39m\u001b[38;5;241m*\u001b[39mkwds)\n",
      "File \u001b[1;32mc:\\Users\\saboor\\miniconda3\\envs\\tf_env\\lib\\site-packages\\pandas\\core\\nanops.py:147\u001b[0m, in \u001b[0;36mbottleneck_switch.__call__.<locals>.f\u001b[1;34m(values, axis, skipna, **kwds)\u001b[0m\n\u001b[0;32m    146\u001b[0m \u001b[38;5;28;01melse\u001b[39;00m:\n\u001b[1;32m--> 147\u001b[0m     result \u001b[38;5;241m=\u001b[39m alt(values, axis\u001b[38;5;241m=\u001b[39maxis, skipna\u001b[38;5;241m=\u001b[39mskipna, \u001b[38;5;241m*\u001b[39m\u001b[38;5;241m*\u001b[39mkwds)\n\u001b[0;32m    149\u001b[0m \u001b[38;5;28;01mreturn\u001b[39;00m result\n",
      "File \u001b[1;32mc:\\Users\\saboor\\miniconda3\\envs\\tf_env\\lib\\site-packages\\pandas\\core\\nanops.py:404\u001b[0m, in \u001b[0;36m_datetimelike_compat.<locals>.new_func\u001b[1;34m(values, axis, skipna, mask, **kwargs)\u001b[0m\n\u001b[0;32m    402\u001b[0m     mask \u001b[38;5;241m=\u001b[39m isna(values)\n\u001b[1;32m--> 404\u001b[0m result \u001b[38;5;241m=\u001b[39m func(values, axis\u001b[38;5;241m=\u001b[39maxis, skipna\u001b[38;5;241m=\u001b[39mskipna, mask\u001b[38;5;241m=\u001b[39mmask, \u001b[38;5;241m*\u001b[39m\u001b[38;5;241m*\u001b[39mkwargs)\n\u001b[0;32m    406\u001b[0m \u001b[38;5;28;01mif\u001b[39;00m datetimelike:\n",
      "File \u001b[1;32mc:\\Users\\saboor\\miniconda3\\envs\\tf_env\\lib\\site-packages\\pandas\\core\\nanops.py:720\u001b[0m, in \u001b[0;36mnanmean\u001b[1;34m(values, axis, skipna, mask)\u001b[0m\n\u001b[0;32m    719\u001b[0m the_sum \u001b[38;5;241m=\u001b[39m values\u001b[38;5;241m.\u001b[39msum(axis, dtype\u001b[38;5;241m=\u001b[39mdtype_sum)\n\u001b[1;32m--> 720\u001b[0m the_sum \u001b[38;5;241m=\u001b[39m \u001b[43m_ensure_numeric\u001b[49m\u001b[43m(\u001b[49m\u001b[43mthe_sum\u001b[49m\u001b[43m)\u001b[49m\n\u001b[0;32m    722\u001b[0m \u001b[38;5;28;01mif\u001b[39;00m axis \u001b[38;5;129;01mis\u001b[39;00m \u001b[38;5;129;01mnot\u001b[39;00m \u001b[38;5;28;01mNone\u001b[39;00m \u001b[38;5;129;01mand\u001b[39;00m \u001b[38;5;28mgetattr\u001b[39m(the_sum, \u001b[38;5;124m\"\u001b[39m\u001b[38;5;124mndim\u001b[39m\u001b[38;5;124m\"\u001b[39m, \u001b[38;5;28;01mFalse\u001b[39;00m):\n",
      "File \u001b[1;32mc:\\Users\\saboor\\miniconda3\\envs\\tf_env\\lib\\site-packages\\pandas\\core\\nanops.py:1701\u001b[0m, in \u001b[0;36m_ensure_numeric\u001b[1;34m(x)\u001b[0m\n\u001b[0;32m   1699\u001b[0m \u001b[38;5;28;01mif\u001b[39;00m \u001b[38;5;28misinstance\u001b[39m(x, \u001b[38;5;28mstr\u001b[39m):\n\u001b[0;32m   1700\u001b[0m     \u001b[38;5;66;03m# GH#44008, GH#36703 avoid casting e.g. strings to numeric\u001b[39;00m\n\u001b[1;32m-> 1701\u001b[0m     \u001b[38;5;28;01mraise\u001b[39;00m \u001b[38;5;167;01mTypeError\u001b[39;00m(\u001b[38;5;124mf\u001b[39m\u001b[38;5;124m\"\u001b[39m\u001b[38;5;124mCould not convert string \u001b[39m\u001b[38;5;124m'\u001b[39m\u001b[38;5;132;01m{\u001b[39;00mx\u001b[38;5;132;01m}\u001b[39;00m\u001b[38;5;124m'\u001b[39m\u001b[38;5;124m to numeric\u001b[39m\u001b[38;5;124m\"\u001b[39m)\n\u001b[0;32m   1702\u001b[0m \u001b[38;5;28;01mtry\u001b[39;00m:\n",
      "\u001b[1;31mTypeError\u001b[0m: Could not convert string '3.56 / 71.113.56 / 71.113.63 / 72.593.22 / 64.443.41 / 68.153.52 / 70.373.48 / 69.633.44 / 68.893.48 / 69.633.04 / 60.743.37 / 67.413.19 / 63.703.44 / 68.892.93 / 58.523.37 / 67.413.19 / 63.703.15 / 62.963.22 / 64.443.52 / 70.373.37 / 67.41' to numeric",
      "\nThe above exception was the direct cause of the following exception:\n",
      "\u001b[1;31mTypeError\u001b[0m                                 Traceback (most recent call last)",
      "Cell \u001b[1;32mIn[56], line 1\u001b[0m\n\u001b[1;32m----> 1\u001b[0m df_grouped \u001b[38;5;241m=\u001b[39m \u001b[43mdf\u001b[49m\u001b[38;5;241;43m.\u001b[39;49m\u001b[43mgroupby\u001b[49m\u001b[43m(\u001b[49m\u001b[38;5;124;43m'\u001b[39;49m\u001b[38;5;124;43mBasic Course\u001b[39;49m\u001b[38;5;124;43m'\u001b[39;49m\u001b[43m)\u001b[49m\u001b[43m[\u001b[49m\u001b[38;5;124;43m'\u001b[39;49m\u001b[38;5;124;43mAverage/ Percentage\u001b[39;49m\u001b[38;5;124;43m'\u001b[39;49m\u001b[43m]\u001b[49m\u001b[38;5;241;43m.\u001b[39;49m\u001b[43mmean\u001b[49m\u001b[43m(\u001b[49m\u001b[43m)\u001b[49m\n\u001b[0;32m      2\u001b[0m average_average_rating \u001b[38;5;241m=\u001b[39m df_grouped\u001b[38;5;241m.\u001b[39mmean()\n\u001b[0;32m      3\u001b[0m \u001b[38;5;28mprint\u001b[39m(\u001b[38;5;124m\"\u001b[39m\u001b[38;5;124mAverage average rating by course (sum of average ratings across 20 questions):\u001b[39m\u001b[38;5;124m\"\u001b[39m)\n",
      "File \u001b[1;32mc:\\Users\\saboor\\miniconda3\\envs\\tf_env\\lib\\site-packages\\pandas\\core\\groupby\\groupby.py:2452\u001b[0m, in \u001b[0;36mGroupBy.mean\u001b[1;34m(self, numeric_only, engine, engine_kwargs)\u001b[0m\n\u001b[0;32m   2445\u001b[0m     \u001b[38;5;28;01mreturn\u001b[39;00m \u001b[38;5;28mself\u001b[39m\u001b[38;5;241m.\u001b[39m_numba_agg_general(\n\u001b[0;32m   2446\u001b[0m         grouped_mean,\n\u001b[0;32m   2447\u001b[0m         executor\u001b[38;5;241m.\u001b[39mfloat_dtype_mapping,\n\u001b[0;32m   2448\u001b[0m         engine_kwargs,\n\u001b[0;32m   2449\u001b[0m         min_periods\u001b[38;5;241m=\u001b[39m\u001b[38;5;241m0\u001b[39m,\n\u001b[0;32m   2450\u001b[0m     )\n\u001b[0;32m   2451\u001b[0m \u001b[38;5;28;01melse\u001b[39;00m:\n\u001b[1;32m-> 2452\u001b[0m     result \u001b[38;5;241m=\u001b[39m \u001b[38;5;28;43mself\u001b[39;49m\u001b[38;5;241;43m.\u001b[39;49m\u001b[43m_cython_agg_general\u001b[49m\u001b[43m(\u001b[49m\n\u001b[0;32m   2453\u001b[0m \u001b[43m        \u001b[49m\u001b[38;5;124;43m\"\u001b[39;49m\u001b[38;5;124;43mmean\u001b[39;49m\u001b[38;5;124;43m\"\u001b[39;49m\u001b[43m,\u001b[49m\n\u001b[0;32m   2454\u001b[0m \u001b[43m        \u001b[49m\u001b[43malt\u001b[49m\u001b[38;5;241;43m=\u001b[39;49m\u001b[38;5;28;43;01mlambda\u001b[39;49;00m\u001b[43m \u001b[49m\u001b[43mx\u001b[49m\u001b[43m:\u001b[49m\u001b[43m \u001b[49m\u001b[43mSeries\u001b[49m\u001b[43m(\u001b[49m\u001b[43mx\u001b[49m\u001b[43m,\u001b[49m\u001b[43m \u001b[49m\u001b[43mcopy\u001b[49m\u001b[38;5;241;43m=\u001b[39;49m\u001b[38;5;28;43;01mFalse\u001b[39;49;00m\u001b[43m)\u001b[49m\u001b[38;5;241;43m.\u001b[39;49m\u001b[43mmean\u001b[49m\u001b[43m(\u001b[49m\u001b[43mnumeric_only\u001b[49m\u001b[38;5;241;43m=\u001b[39;49m\u001b[43mnumeric_only\u001b[49m\u001b[43m)\u001b[49m\u001b[43m,\u001b[49m\n\u001b[0;32m   2455\u001b[0m \u001b[43m        \u001b[49m\u001b[43mnumeric_only\u001b[49m\u001b[38;5;241;43m=\u001b[39;49m\u001b[43mnumeric_only\u001b[49m\u001b[43m,\u001b[49m\n\u001b[0;32m   2456\u001b[0m \u001b[43m    \u001b[49m\u001b[43m)\u001b[49m\n\u001b[0;32m   2457\u001b[0m     \u001b[38;5;28;01mreturn\u001b[39;00m result\u001b[38;5;241m.\u001b[39m__finalize__(\u001b[38;5;28mself\u001b[39m\u001b[38;5;241m.\u001b[39mobj, method\u001b[38;5;241m=\u001b[39m\u001b[38;5;124m\"\u001b[39m\u001b[38;5;124mgroupby\u001b[39m\u001b[38;5;124m\"\u001b[39m)\n",
      "File \u001b[1;32mc:\\Users\\saboor\\miniconda3\\envs\\tf_env\\lib\\site-packages\\pandas\\core\\groupby\\groupby.py:1998\u001b[0m, in \u001b[0;36mGroupBy._cython_agg_general\u001b[1;34m(self, how, alt, numeric_only, min_count, **kwargs)\u001b[0m\n\u001b[0;32m   1995\u001b[0m     result \u001b[38;5;241m=\u001b[39m \u001b[38;5;28mself\u001b[39m\u001b[38;5;241m.\u001b[39m_agg_py_fallback(how, values, ndim\u001b[38;5;241m=\u001b[39mdata\u001b[38;5;241m.\u001b[39mndim, alt\u001b[38;5;241m=\u001b[39malt)\n\u001b[0;32m   1996\u001b[0m     \u001b[38;5;28;01mreturn\u001b[39;00m result\n\u001b[1;32m-> 1998\u001b[0m new_mgr \u001b[38;5;241m=\u001b[39m \u001b[43mdata\u001b[49m\u001b[38;5;241;43m.\u001b[39;49m\u001b[43mgrouped_reduce\u001b[49m\u001b[43m(\u001b[49m\u001b[43marray_func\u001b[49m\u001b[43m)\u001b[49m\n\u001b[0;32m   1999\u001b[0m res \u001b[38;5;241m=\u001b[39m \u001b[38;5;28mself\u001b[39m\u001b[38;5;241m.\u001b[39m_wrap_agged_manager(new_mgr)\n\u001b[0;32m   2000\u001b[0m \u001b[38;5;28;01mif\u001b[39;00m how \u001b[38;5;129;01min\u001b[39;00m [\u001b[38;5;124m\"\u001b[39m\u001b[38;5;124midxmin\u001b[39m\u001b[38;5;124m\"\u001b[39m, \u001b[38;5;124m\"\u001b[39m\u001b[38;5;124midxmax\u001b[39m\u001b[38;5;124m\"\u001b[39m]:\n",
      "File \u001b[1;32mc:\\Users\\saboor\\miniconda3\\envs\\tf_env\\lib\\site-packages\\pandas\\core\\internals\\base.py:367\u001b[0m, in \u001b[0;36mSingleDataManager.grouped_reduce\u001b[1;34m(self, func)\u001b[0m\n\u001b[0;32m    365\u001b[0m \u001b[38;5;28;01mdef\u001b[39;00m \u001b[38;5;21mgrouped_reduce\u001b[39m(\u001b[38;5;28mself\u001b[39m, func):\n\u001b[0;32m    366\u001b[0m     arr \u001b[38;5;241m=\u001b[39m \u001b[38;5;28mself\u001b[39m\u001b[38;5;241m.\u001b[39marray\n\u001b[1;32m--> 367\u001b[0m     res \u001b[38;5;241m=\u001b[39m \u001b[43mfunc\u001b[49m\u001b[43m(\u001b[49m\u001b[43marr\u001b[49m\u001b[43m)\u001b[49m\n\u001b[0;32m    368\u001b[0m     index \u001b[38;5;241m=\u001b[39m default_index(\u001b[38;5;28mlen\u001b[39m(res))\n\u001b[0;32m    370\u001b[0m     mgr \u001b[38;5;241m=\u001b[39m \u001b[38;5;28mtype\u001b[39m(\u001b[38;5;28mself\u001b[39m)\u001b[38;5;241m.\u001b[39mfrom_array(res, index)\n",
      "File \u001b[1;32mc:\\Users\\saboor\\miniconda3\\envs\\tf_env\\lib\\site-packages\\pandas\\core\\groupby\\groupby.py:1995\u001b[0m, in \u001b[0;36mGroupBy._cython_agg_general.<locals>.array_func\u001b[1;34m(values)\u001b[0m\n\u001b[0;32m   1992\u001b[0m     \u001b[38;5;28;01mreturn\u001b[39;00m result\n\u001b[0;32m   1994\u001b[0m \u001b[38;5;28;01massert\u001b[39;00m alt \u001b[38;5;129;01mis\u001b[39;00m \u001b[38;5;129;01mnot\u001b[39;00m \u001b[38;5;28;01mNone\u001b[39;00m\n\u001b[1;32m-> 1995\u001b[0m result \u001b[38;5;241m=\u001b[39m \u001b[38;5;28;43mself\u001b[39;49m\u001b[38;5;241;43m.\u001b[39;49m\u001b[43m_agg_py_fallback\u001b[49m\u001b[43m(\u001b[49m\u001b[43mhow\u001b[49m\u001b[43m,\u001b[49m\u001b[43m \u001b[49m\u001b[43mvalues\u001b[49m\u001b[43m,\u001b[49m\u001b[43m \u001b[49m\u001b[43mndim\u001b[49m\u001b[38;5;241;43m=\u001b[39;49m\u001b[43mdata\u001b[49m\u001b[38;5;241;43m.\u001b[39;49m\u001b[43mndim\u001b[49m\u001b[43m,\u001b[49m\u001b[43m \u001b[49m\u001b[43malt\u001b[49m\u001b[38;5;241;43m=\u001b[39;49m\u001b[43malt\u001b[49m\u001b[43m)\u001b[49m\n\u001b[0;32m   1996\u001b[0m \u001b[38;5;28;01mreturn\u001b[39;00m result\n",
      "File \u001b[1;32mc:\\Users\\saboor\\miniconda3\\envs\\tf_env\\lib\\site-packages\\pandas\\core\\groupby\\groupby.py:1946\u001b[0m, in \u001b[0;36mGroupBy._agg_py_fallback\u001b[1;34m(self, how, values, ndim, alt)\u001b[0m\n\u001b[0;32m   1944\u001b[0m     msg \u001b[38;5;241m=\u001b[39m \u001b[38;5;124mf\u001b[39m\u001b[38;5;124m\"\u001b[39m\u001b[38;5;124magg function failed [how->\u001b[39m\u001b[38;5;132;01m{\u001b[39;00mhow\u001b[38;5;132;01m}\u001b[39;00m\u001b[38;5;124m,dtype->\u001b[39m\u001b[38;5;132;01m{\u001b[39;00mser\u001b[38;5;241m.\u001b[39mdtype\u001b[38;5;132;01m}\u001b[39;00m\u001b[38;5;124m]\u001b[39m\u001b[38;5;124m\"\u001b[39m\n\u001b[0;32m   1945\u001b[0m     \u001b[38;5;66;03m# preserve the kind of exception that raised\u001b[39;00m\n\u001b[1;32m-> 1946\u001b[0m     \u001b[38;5;28;01mraise\u001b[39;00m \u001b[38;5;28mtype\u001b[39m(err)(msg) \u001b[38;5;28;01mfrom\u001b[39;00m \u001b[38;5;21;01merr\u001b[39;00m\n\u001b[0;32m   1948\u001b[0m \u001b[38;5;28;01mif\u001b[39;00m ser\u001b[38;5;241m.\u001b[39mdtype \u001b[38;5;241m==\u001b[39m \u001b[38;5;28mobject\u001b[39m:\n\u001b[0;32m   1949\u001b[0m     res_values \u001b[38;5;241m=\u001b[39m res_values\u001b[38;5;241m.\u001b[39mastype(\u001b[38;5;28mobject\u001b[39m, copy\u001b[38;5;241m=\u001b[39m\u001b[38;5;28;01mFalse\u001b[39;00m)\n",
      "\u001b[1;31mTypeError\u001b[0m: agg function failed [how->mean,dtype->object]"
     ]
    }
   ],
   "source": [
    "df_grouped = df.groupby('Basic Course')['Average/ Percentage'].mean()\n",
    "average_average_rating = df_grouped.mean()\n",
    "print(\"Average average rating by course (sum of average ratings across 20 questions):\")\n",
    "print(df_grouped)\n",
    "print(\"\\nOverall average average rating across all courses:\")\n",
    "print(average_average_rating)\n",
    "plt.figure(figsize=(12, 10))\n",
    "plt.bar(df_grouped.index, df_grouped.values, color='red')\n",
    "plt.xlabel('Basic Course (Departments)')\n",
    "plt.ylabel('Sum of Average Ratings Across 20 Questions')\n",
    "plt.title(' Average Rating Given by Departments')\n",
    "plt.xticks(rotation=45, ha='right')\n",
    "plt.tight_layout()\n",
    "plt.show()"
   ]
  },
  {
   "cell_type": "markdown",
   "metadata": {},
   "source": [
    "**Observations on Average Average Rating by Course:**\n",
    "\n",
    "The data shows a variation in student perceptions (3.050500 to 4.354500) of the overall teaching quality across courses, likely based on the sum of average ratings provided for 20 questions. Here's a breakdown of the findings:\n",
    "\n",
    "**Higher Average Ratings:**\n",
    "\n",
    "BACHELOR OF ARTS (4.335000) & BACHELOR OF COMMERCE (BANKING AND INSURANCE) (4.350000) - Students perceive the highest average quality in these programs.\n",
    "BACHELOR OF COMMERCE (ACCOUNTING AND FINANCE) (4.075500), BACHELOR OF MANAGEMENT STUDIES (4.092167), MSC INFORMATION TECHNOLOGY (4.354500) - These courses also show above average ratings.\n",
    "\n",
    "**Lower Average Ratings:**\n",
    "\n",
    "MSC DATA SCIENCE (3.050500) - Students perceive the lowest average quality in this program.\n",
    "B.VOC FOOD TECHNOLOGY (3.400000), MSC PHYSICS (3.425000) - These courses along with others fall below the overall average (average is not provided but can be calculated)."
   ]
  },
  {
   "cell_type": "markdown",
   "metadata": {},
   "source": [
    " # **1. Understanding Student Experience: Insights from Satisfaction Survey**"
   ]
  },
  {
   "cell_type": "markdown",
   "metadata": {},
   "source": [
    "**1. How much of the syllabus was covered in the class ?**"
   ]
  },
  {
   "cell_type": "code",
   "execution_count": 57,
   "metadata": {},
   "outputs": [
    {
     "name": "stdout",
     "output_type": "stream",
     "text": [
      "Basic Course\n",
      "B.SC. COMPUTER SCIENCE                           3.560000\n",
      "B.VOC FOOD TECHNOLOGY                            3.000000\n",
      "BACHELOR OF ARTS                                 4.325000\n",
      "BACHELOR OF COMMERCE                             3.760000\n",
      "BACHELOR OF COMMERCE (ACCOUNTING AND FINANCE)    4.345000\n",
      "BACHELOR OF COMMERCE (BANKING AND INSURANCE)     4.700000\n",
      "BACHELOR OF MANAGEMENT STUDIES                   3.840000\n",
      "BACHELOR OF SCIENCE                              4.053333\n",
      "MA PSYCHOLOGY                                    3.370000\n",
      "MSC ANALYTICAL CHEMISTRY                         4.430000\n",
      "MSC COMPUTER SCIENCE                             4.410000\n",
      "MSC DATA SCIENCE                                 3.335000\n",
      "MSC INFORMATION TECHNOLOGY                       4.835000\n",
      "MSC MICROBIOLOGY                                 3.480000\n",
      "MSC ORGANIC CHEMISTRY                            4.120000\n",
      "MSC PHYSICS                                      3.000000\n",
      "Name: Average/ Percentage, dtype: float64\n"
     ]
    },
    {
     "data": {
      "image/png": "[encoded data removed]",
      "text/plain": [
       "<Figure size 640x480 with 1 Axes>"
      ]
     },
     "metadata": {},
     "output_type": "display_data"
    },
    {
     "data": {
      "text/plain": [
       "min    3.000\n",
       "max    4.835\n",
       "Name: Average/ Percentage, dtype: float64"
      ]
     },
     "execution_count": 57,
     "metadata": {},
     "output_type": "execute_result"
    }
   ],
   "source": [
    "df['Average/ Percentage'] = df['Average/ Percentage'].str.split(' / ').str[0].astype(float)\n",
    "question_one_df = df[df['Questions'] == 'How much of the syllabus was covered in the class?']\n",
    "average_percentage1 = question_one_df.groupby('Basic Course')['Average/ Percentage'].mean()\n",
    "print(average_percentage1)\n",
    "sns.histplot(average_percentage1, color='red')\n",
    "plt.xlabel('Average Percentage')\n",
    "plt.ylabel('Frequency')\n",
    "plt.title('Distribution of Average Percentages')\n",
    "plt.show()\n",
    "average_percentage1.agg(['min', 'max'])"
   ]
  },
  {
   "cell_type": "markdown",
   "metadata": {},
   "source": [
    "**Observation.**\n",
    "Here are some observations you can make about the data for question 1: \"How much of the syllabus was covered in the class?\"\n",
    "\n",
    "**Overall Coverage:**\n",
    "\n",
    "It's difficult to determine a single \"coverage\" value for the entire dataset. The provided values indicate a range of coverage from 3.00 (lowest) to 4.84 (highest).\n",
    "Course Types:\n",
    "\n",
    "**Bachelor Degrees:** Bachelor's degrees seem to have an average coverage between 3.33 and 4.35 (excluding outliers). This suggests a moderate to good portion of the syllabus was covered in these classes.\n",
    "**Master's Degrees:** Master's degrees generally show higher coverage, ranging from 3.00 to 4.84. This implies a potentially more comprehensive syllabus coverage in these classes. However, the sample size for Master's degrees is smaller (5) compared to Bachelor's (8), so the observation might not be statistically significant.\n",
    "\n",
    "**Outliers:**\n",
    "\n",
    "**BACHELOR OF COMMERCE (BANKING AND INSURANCE):** This course has the highest reported coverage (4.70). It might be worth investigating if this high coverage is accurate or represents an anomaly in the data collection process.\n",
    "MSC INFORMATION TECHNOLOGY: This course has the highest reported coverage (4.84) among Master's degrees. Similar to the previous outlier, a closer look might be beneficial to confirm the accuracy"
   ]
  },
  {
   "cell_type": "markdown",
   "metadata": {},
   "source": [
    "**2. How well did the teachers prepare for the classes ?**"
   ]
  },
  {
   "cell_type": "code",
   "execution_count": 58,
   "metadata": {},
   "outputs": [
    {
     "name": "stdout",
     "output_type": "stream",
     "text": [
      "Basic Course\n",
      "B.SC. COMPUTER SCIENCE                           3.560000\n",
      "B.VOC FOOD TECHNOLOGY                            5.000000\n",
      "BACHELOR OF ARTS                                 4.675000\n",
      "BACHELOR OF COMMERCE                             3.815000\n",
      "BACHELOR OF COMMERCE (ACCOUNTING AND FINANCE)    3.945000\n",
      "BACHELOR OF COMMERCE (BANKING AND INSURANCE)     4.050000\n",
      "BACHELOR OF MANAGEMENT STUDIES                   4.233333\n",
      "BACHELOR OF SCIENCE                              4.210000\n",
      "MA PSYCHOLOGY                                    3.645000\n",
      "MSC ANALYTICAL CHEMISTRY                         4.285000\n",
      "MSC COMPUTER SCIENCE                             4.020000\n",
      "MSC DATA SCIENCE                                 3.670000\n",
      "MSC INFORMATION TECHNOLOGY                       4.250000\n",
      "MSC MICROBIOLOGY                                 3.690000\n",
      "MSC ORGANIC CHEMISTRY                            4.180000\n",
      "MSC PHYSICS                                      4.500000\n",
      "Name: Average/ Percentage, dtype: float64\n"
     ]
    },
    {
     "data": {
      "image/png": "[encoded data removed]",
      "text/plain": [
       "<Figure size 640x480 with 1 Axes>"
      ]
     },
     "metadata": {},
     "output_type": "display_data"
    },
    {
     "data": {
      "text/plain": [
       "min    3.56\n",
       "max    5.00\n",
       "Name: Average/ Percentage, dtype: float64"
      ]
     },
     "execution_count": 58,
     "metadata": {},
     "output_type": "execute_result"
    }
   ],
   "source": [
    "df['Average/ Percentage'] = df['Average/ Percentage']\n",
    "question_two_df = df[df['Questions'] == 'How well did the teachers prepare for the classes?']\n",
    "average_percentage2 = question_two_df.groupby('Basic Course')['Average/ Percentage'].mean()\n",
    "print(average_percentage2)\n",
    "sns.histplot(average_percentage2, color='red')\n",
    "plt.xlabel('Average Percentage')\n",
    "plt.ylabel('Frequency')\n",
    "plt.title('Distribution of Average Percentages')\n",
    "plt.show()\n",
    "average_percentage2.agg(['min', 'max'])"
   ]
  },
  {
   "cell_type": "markdown",
   "metadata": {},
   "source": [
    "**Observation.**\n",
    "Here are some observations you can make about the data for question 2: \"How well did the teachers prepare for the classes?\"\n",
    "\n",
    "**Teacher Preparation:**\n",
    "\n",
    "The data suggests a range of perceived teacher preparedness, from 3.56 (lowest) to 5.00 (highest). This indicates that students have varying opinions about how well teachers prepared for classes.\n",
    "**Course Types:**\n",
    "\n",
    "**Bachelor Degrees:** The average perceived teacher preparedness seems to be between 3.8 and 4.6 (excluding outliers).\n",
    "**Master's Degrees:** The average perceived teacher preparedness seems to be slightly higher (around 4.0) for Master's degrees compared to Bachelor's degrees. However, the sample size for Master's degrees is smaller (5) compared to Bachelor's (8), so the observation might not be statistically significant.\n",
    "**Outliers:**\n",
    "\n",
    "**B.VOC FOOD TECHNOLOGY:** This course has the highest reported teacher preparedness (5.00). It's worth considering if this exceptional rating reflects a unique situation or represents the general perception for this course.\n",
    "There are no clear outliers on the low end."
   ]
  },
  {
   "cell_type": "markdown",
   "metadata": {},
   "source": [
    "**3. How well were the teachers able to communicate ?**"
   ]
  },
  {
   "cell_type": "code",
   "execution_count": 59,
   "metadata": {},
   "outputs": [
    {
     "name": "stdout",
     "output_type": "stream",
     "text": [
      "Basic Course\n",
      "B.SC. COMPUTER SCIENCE                           3.630\n",
      "B.VOC FOOD TECHNOLOGY                            5.000\n",
      "BACHELOR OF ARTS                                 4.735\n",
      "BACHELOR OF COMMERCE                             4.145\n",
      "BACHELOR OF COMMERCE (ACCOUNTING AND FINANCE)    4.355\n",
      "BACHELOR OF COMMERCE (BANKING AND INSURANCE)     4.500\n",
      "BACHELOR OF MANAGEMENT STUDIES                   4.170\n",
      "BACHELOR OF SCIENCE                              4.320\n",
      "MA PSYCHOLOGY                                    3.685\n",
      "MSC ANALYTICAL CHEMISTRY                         4.215\n",
      "MSC COMPUTER SCIENCE                             4.230\n",
      "MSC DATA SCIENCE                                 3.165\n",
      "MSC INFORMATION TECHNOLOGY                       4.585\n",
      "MSC MICROBIOLOGY                                 4.165\n",
      "MSC ORGANIC CHEMISTRY                            4.060\n",
      "MSC PHYSICS                                      4.500\n",
      "Name: Average/ Percentage, dtype: float64\n"
     ]
    },
    {
     "data": {
      "image/png": "[encoded data removed]",
      "text/plain": [
       "<Figure size 640x480 with 1 Axes>"
      ]
     },
     "metadata": {},
     "output_type": "display_data"
    },
    {
     "data": {
      "text/plain": [
       "min    3.165\n",
       "max    5.000\n",
       "Name: Average/ Percentage, dtype: float64"
      ]
     },
     "execution_count": 59,
     "metadata": {},
     "output_type": "execute_result"
    }
   ],
   "source": [
    "df['Average/ Percentage'] = df['Average/ Percentage']\n",
    "question_Three_df = df[df['Questions'] == 'How well were the teachers able to communicate?']\n",
    "average_percentage3 = question_Three_df.groupby('Basic Course')['Average/ Percentage'].mean()\n",
    "print(average_percentage3)\n",
    "sns.histplot(average_percentage3, color='red')\n",
    "plt.xlabel('Average Percentage')\n",
    "plt.ylabel('Frequency')\n",
    "plt.title('Distribution of Average Percentages')\n",
    "plt.show()\n",
    "average_percentage3.agg(['min', 'max'])"
   ]
  },
  {
   "cell_type": "markdown",
   "metadata": {},
   "source": [
    "**Observation :**\n",
    "Here are some observations you can make about the data for question 3: \"How well were the teachers able to communicate?\"\n",
    "\n",
    "**Teacher Communication:**\n",
    "\n",
    "The data suggests a range of perceived teacher communication skills, from 3.165 (lowest) to 5.00 (highest). This indicates that students have varying opinions about how effectively teachers communicated the course material.\n",
    "Course Types:\n",
    "\n",
    "**Bachelor Degrees:** The average perceived teacher communication seems to be between 4.1 and 4.7 (excluding outliers).\n",
    "**Master's Degrees:** The average perceived teacher communication seems to be slightly higher (around 4.2) for Master's degrees compared to Bachelor's degrees. However, the sample size for Master's degrees is smaller (5) compared to Bachelor's (8), so the observation might not be statistically significant.\n",
    "**Outliers:**\n",
    "\n",
    "**B.VOC FOOD TECHNOLOGY:** This course has the highest reported teacher communication rating (5.00). It's worth considering if this exceptional rating reflects a unique situation or represents the general perception for this course.\n",
    "MSC DATA SCIENCE: This course has the lowest reported teacher communication rating (3.165). It might be valuable to investigate why students felt the communication in this course was less effective."
   ]
  },
  {
   "cell_type": "markdown",
   "metadata": {},
   "source": [
    "**4. The teachers approach to teaching can best be described as ?**"
   ]
  },
  {
   "cell_type": "code",
   "execution_count": 60,
   "metadata": {},
   "outputs": [
    {
     "name": "stdout",
     "output_type": "stream",
     "text": [
      "Basic Course\n",
      "B.SC. COMPUTER SCIENCE                           3.220\n",
      "B.VOC FOOD TECHNOLOGY                            3.000\n",
      "BACHELOR OF ARTS                                 4.470\n",
      "BACHELOR OF COMMERCE                             3.720\n",
      "BACHELOR OF COMMERCE (ACCOUNTING AND FINANCE)    3.985\n",
      "BACHELOR OF COMMERCE (BANKING AND INSURANCE)     4.350\n",
      "BACHELOR OF MANAGEMENT STUDIES                   3.930\n",
      "BACHELOR OF SCIENCE                              3.740\n",
      "MA PSYCHOLOGY                                    3.370\n",
      "MSC ANALYTICAL CHEMISTRY                         3.535\n",
      "MSC COMPUTER SCIENCE                             3.645\n",
      "MSC DATA SCIENCE                                 2.835\n",
      "MSC INFORMATION TECHNOLOGY                       4.585\n",
      "MSC MICROBIOLOGY                                 3.250\n",
      "MSC ORGANIC CHEMISTRY                            3.880\n",
      "MSC PHYSICS                                      3.500\n",
      "Name: Average/ Percentage, dtype: float64\n"
     ]
    },
    {
     "data": {
      "image/png": "[encoded data removed]",
      "text/plain": [
       "<Figure size 640x480 with 1 Axes>"
      ]
     },
     "metadata": {},
     "output_type": "display_data"
    },
    {
     "data": {
      "text/plain": [
       "min    2.835\n",
       "max    4.585\n",
       "Name: Average/ Percentage, dtype: float64"
      ]
     },
     "execution_count": 60,
     "metadata": {},
     "output_type": "execute_result"
    }
   ],
   "source": [
    "df['Average/ Percentage'] = df['Average/ Percentage']\n",
    "question_four_df = df[df['Questions'] == 'The teacher\\x92s approach to teaching can best be described as']\n",
    "average_percentage4 = question_four_df.groupby('Basic Course')['Average/ Percentage'].mean()\n",
    "print(average_percentage4)\n",
    "sns.histplot(average_percentage4, color='red')\n",
    "plt.xlabel('Average Percentage')\n",
    "plt.ylabel('Frequency')\n",
    "plt.title('Distribution of Average Percentages')\n",
    "plt.show()\n",
    "average_percentage4.agg(['min', 'max'])"
   ]
  },
  {
   "cell_type": "markdown",
   "metadata": {},
   "source": [
    "**Observation.**\n",
    "Here are some general observations, assuming the ratings could be interpreted as a measure of student satisfaction with the teaching approach:\n",
    "\n",
    "There's a range of perceived teaching approach effectiveness, from 2.835 (lowest) to 4.585 (highest).\n",
    "Some courses (BACHELOR OF ARTS, MSC INFORMATION TECHNOLOGY) have higher average ratings, suggesting students found the teaching approach more effective in those courses.\n",
    "Other courses (MSC DATA SCIENCE) have lower average ratings, indicating a need to explore how the teaching approach can be improved for those students."
   ]
  },
  {
   "cell_type": "markdown",
   "metadata": {},
   "source": [
    "**5. Fairness of the internal evaluation process by the teachers.**"
   ]
  },
  {
   "cell_type": "code",
   "execution_count": 61,
   "metadata": {},
   "outputs": [
    {
     "name": "stdout",
     "output_type": "stream",
     "text": [
      "Basic Course\n",
      "B.SC. COMPUTER SCIENCE                           3.410000\n",
      "B.VOC FOOD TECHNOLOGY                            4.000000\n",
      "BACHELOR OF ARTS                                 4.765000\n",
      "BACHELOR OF COMMERCE                             3.895000\n",
      "BACHELOR OF COMMERCE (ACCOUNTING AND FINANCE)    4.280000\n",
      "BACHELOR OF COMMERCE (BANKING AND INSURANCE)     4.450000\n",
      "BACHELOR OF MANAGEMENT STUDIES                   4.170000\n",
      "BACHELOR OF SCIENCE                              4.033333\n",
      "MA PSYCHOLOGY                                    4.415000\n",
      "MSC ANALYTICAL CHEMISTRY                         4.285000\n",
      "MSC COMPUTER SCIENCE                             4.305000\n",
      "MSC DATA SCIENCE                                 3.835000\n",
      "MSC INFORMATION TECHNOLOGY                       4.750000\n",
      "MSC MICROBIOLOGY                                 3.905000\n",
      "MSC ORGANIC CHEMISTRY                            4.410000\n",
      "MSC PHYSICS                                      4.500000\n",
      "Name: Average/ Percentage, dtype: float64\n"
     ]
    },
    {
     "data": {
      "text/plain": [
       "min    3.410\n",
       "max    4.765\n",
       "Name: Average/ Percentage, dtype: float64"
      ]
     },
     "execution_count": 61,
     "metadata": {},
     "output_type": "execute_result"
    },
    {
     "data": {
      "image/png": "[encoded data removed]",
      "text/plain": [
       "<Figure size 640x480 with 1 Axes>"
      ]
     },
     "metadata": {},
     "output_type": "display_data"
    }
   ],
   "source": [
    "df['Average/ Percentage'] = df['Average/ Percentage']\n",
    "question_five_df = df[df['Questions'] == 'Fairness of the internal evaluation process by the teachers.']\n",
    "average_percentage5 = question_five_df.groupby('Basic Course')['Average/ Percentage'].mean()\n",
    "print(average_percentage5)\n",
    "sns.histplot(average_percentage5, color='red')\n",
    "average_percentage5.agg(['min', 'max'])"
   ]
  },
  {
   "cell_type": "markdown",
   "metadata": {},
   "source": [
    "**Observation.**\n",
    "Here's a summary of the data for question 5: \"Fairness of the internal evaluation process by the teachers.\"\n",
    "\n",
    "**Perceived Fairness:**\n",
    "\n",
    "The data shows a range of perceptions regarding fairness in the internal evaluation process, from 3.41 (lowest) to 4.765 (highest). This indicates that students have varying opinions on how fair the evaluation process was in different courses.\n",
    "**Course Types:**\n",
    "\n",
    "**Bachelor Degrees:** The average perceived fairness for Bachelor's degrees seems to be around 4.0 and 4.5 (excluding outliers).\n",
    "**Master's Degrees:** Master's degrees generally show slightly higher perceived fairness, with an average around 4.3. However, the sample size for Master's degrees is smaller (5) compared to Bachelor's (8), so the observation might not be statistically significant.\n",
    "**Outliers:**\n",
    "\n",
    "**BACHELOR OF ARTS:** This course has the highest reported fairness rating (4.765). It might be worth investigating if this exceptional rating reflects a unique situation or represents the general perception for this course.\n",
    "B.SC. COMPUTER SCIENCE: This course has the lowest reported fairness rating (3.41). It might be valuable to explore why students felt the evaluation process in this course was less fair."
   ]
  },
  {
   "cell_type": "markdown",
   "metadata": {},
   "source": [
    "**6. Was your performance in assignments discussed with you?**"
   ]
  },
  {
   "cell_type": "code",
   "execution_count": 62,
   "metadata": {},
   "outputs": [
    {
     "name": "stdout",
     "output_type": "stream",
     "text": [
      "Basic Course\n",
      "B.SC. COMPUTER SCIENCE                           3.520000\n",
      "B.VOC FOOD TECHNOLOGY                            4.000000\n",
      "BACHELOR OF ARTS                                 4.325000\n",
      "BACHELOR OF COMMERCE                             3.750000\n",
      "BACHELOR OF COMMERCE (ACCOUNTING AND FINANCE)    4.240000\n",
      "BACHELOR OF COMMERCE (BANKING AND INSURANCE)     4.500000\n",
      "BACHELOR OF MANAGEMENT STUDIES                   4.140000\n",
      "BACHELOR OF SCIENCE                              3.646667\n",
      "MA PSYCHOLOGY                                    3.745000\n",
      "MSC ANALYTICAL CHEMISTRY                         3.965000\n",
      "MSC COMPUTER SCIENCE                             4.285000\n",
      "MSC DATA SCIENCE                                 3.335000\n",
      "MSC INFORMATION TECHNOLOGY                       4.500000\n",
      "MSC MICROBIOLOGY                                 3.485000\n",
      "MSC ORGANIC CHEMISTRY                            3.760000\n",
      "MSC PHYSICS                                      3.000000\n",
      "Name: Average/ Percentage, dtype: float64\n"
     ]
    },
    {
     "data": {
      "text/plain": [
       "min    3.0\n",
       "max    4.5\n",
       "Name: Average/ Percentage, dtype: float64"
      ]
     },
     "execution_count": 62,
     "metadata": {},
     "output_type": "execute_result"
    },
    {
     "data": {
      "image/png": "[encoded data removed]",
      "text/plain": [
       "<Figure size 640x480 with 1 Axes>"
      ]
     },
     "metadata": {},
     "output_type": "display_data"
    }
   ],
   "source": [
    "df['Average/ Percentage'] = df['Average/ Percentage']\n",
    "question_six_df = df[df['Questions'] == 'Was your performance in assignments discussed with you?']\n",
    "average_percentage6 = question_six_df.groupby('Basic Course')['Average/ Percentage'].mean()\n",
    "print(average_percentage6)\n",
    "sns.histplot(average_percentage6, color='red')\n",
    "average_percentage6.agg(['min', 'max'])"
   ]
  },
  {
   "cell_type": "markdown",
   "metadata": {},
   "source": [
    "**Observation.**\n",
    "Here's a summary of the data for question 6: \"Was your performance in assignments discussed with you?\"\n",
    "\n",
    "**Frequency of Discussions:**\n",
    "\n",
    "The data shows a range of reported discussions about assignment performance, from 3.00 (lowest) to 4.50 (highest). This suggests that students had varying experiences in terms of how often their assignment performance was discussed with them.\n",
    "**Course Types:**\n",
    "\n",
    "**Bachelor Degrees:** The average reported frequency of discussions for Bachelor's degrees seems to be around 3.7 and 4.3 (excluding outliers).\n",
    "**Master's Degrees:** Master's degrees generally show slightly higher reported frequency of discussions, with an average around 3.9. However, the sample size for Master's degrees is smaller (5) compared to Bachelor's (8), so the observation might not be statistically significant.\n",
    "**Outliers:**\n",
    "\n",
    "**BACHELOR OF COMMERCE (BANKING AND INSURANCE):** This course has the highest reported frequency of discussions (4.50). It might be worth investigating if this exceptional rating reflects a unique teaching style or represents the general perception for this course.\n",
    "MSC PHYSICS: This course has the lowest reported frequency of discussions (3.00). It might be valuable to explore why students felt their assignment performance was less frequently discussed in this course."
   ]
  },
  {
   "cell_type": "markdown",
   "metadata": {},
   "source": [
    "**7. The institute takes an active interest in promoting internships, student exchange, field visit opportunities for students.**"
   ]
  },
  {
   "cell_type": "code",
   "execution_count": 63,
   "metadata": {},
   "outputs": [
    {
     "name": "stdout",
     "output_type": "stream",
     "text": [
      "Basic Course\n",
      "B.SC. COMPUTER SCIENCE                           3.480000\n",
      "B.VOC FOOD TECHNOLOGY                            3.000000\n",
      "BACHELOR OF ARTS                                 3.735000\n",
      "BACHELOR OF COMMERCE                             3.695000\n",
      "BACHELOR OF COMMERCE (ACCOUNTING AND FINANCE)    3.970000\n",
      "BACHELOR OF COMMERCE (BANKING AND INSURANCE)     4.500000\n",
      "BACHELOR OF MANAGEMENT STUDIES                   4.013333\n",
      "BACHELOR OF SCIENCE                              3.606667\n",
      "MA PSYCHOLOGY                                    3.730000\n",
      "MSC ANALYTICAL CHEMISTRY                         3.680000\n",
      "MSC COMPUTER SCIENCE                             3.250000\n",
      "MSC DATA SCIENCE                                 2.335000\n",
      "MSC INFORMATION TECHNOLOGY                       4.250000\n",
      "MSC MICROBIOLOGY                                 3.690000\n",
      "MSC ORGANIC CHEMISTRY                            3.940000\n",
      "MSC PHYSICS                                      2.500000\n",
      "Name: Average/ Percentage, dtype: float64\n"
     ]
    },
    {
     "data": {
      "image/png": "[encoded data removed]",
      "text/plain": [
       "<Figure size 640x480 with 1 Axes>"
      ]
     },
     "metadata": {},
     "output_type": "display_data"
    },
    {
     "data": {
      "text/plain": [
       "min    2.335\n",
       "max    4.500\n",
       "Name: Average/ Percentage, dtype: float64"
      ]
     },
     "execution_count": 63,
     "metadata": {},
     "output_type": "execute_result"
    }
   ],
   "source": [
    "df['Average/ Percentage'] = df['Average/ Percentage']\n",
    "question_seven_df = df[df['Questions'] == 'The institute takes an active interest in promoting internships, student exchange, field visit opportunities for students.']\n",
    "average_percentage7 = question_seven_df.groupby('Basic Course')['Average/ Percentage'].mean()\n",
    "print(average_percentage7)\n",
    "sns.histplot(average_percentage7, color='red')\n",
    "plt.xlabel('Average Percentage')\n",
    "plt.ylabel('Frequency')\n",
    "plt.title('Distribution of Average Percentages')\n",
    "plt.show()\n",
    "average_percentage7.agg(['min', 'max'])"
   ]
  },
  {
   "cell_type": "markdown",
   "metadata": {},
   "source": [
    "**Observation:** Here's a summary of the data for question 7: \". The institute takes an active interest in promoting internships, student exchange, field visit opportunities for students.\"\n",
    "\n",
    "**Institute's Initiative:**\n",
    "\n",
    "The data shows a range of values (2.335 to 4.500) which likely represent student perceptions regarding the institute's efforts to promote opportunities like internships, exchange programs, and field visits. Higher values suggest a stronger perceived initiative.\n",
    "**Course Types:**\n",
    "\n",
    "\n",
    "\n",
    "**BACHELOR OF COMMERCE (BANKING AND INSURANCE):** This course has the highest reported value (4.500), indicating students perceive the institute to be very active in promoting these opportunities for this course.\n",
    "**MSC DATA SCIENCE & MSC PHYSICS:** These courses have the lowest reported values (2.335 & 2.500), suggesting students perceive less initiative from the institute in promoting opportunities."
   ]
  },
  {
   "cell_type": "markdown",
   "metadata": {},
   "source": [
    "**8. The teaching and mentoring process in your institution facilitates you in cognitive, social and\\nemotional growth.**"
   ]
  },
  {
   "cell_type": "code",
   "execution_count": 64,
   "metadata": {},
   "outputs": [
    {
     "name": "stdout",
     "output_type": "stream",
     "text": [
      "Basic Course\n",
      "B.SC. COMPUTER SCIENCE                           3.440000\n",
      "B.VOC FOOD TECHNOLOGY                            2.000000\n",
      "BACHELOR OF ARTS                                 4.675000\n",
      "BACHELOR OF COMMERCE                             3.565000\n",
      "BACHELOR OF COMMERCE (ACCOUNTING AND FINANCE)    3.970000\n",
      "BACHELOR OF COMMERCE (BANKING AND INSURANCE)     4.350000\n",
      "BACHELOR OF MANAGEMENT STUDIES                   3.920000\n",
      "BACHELOR OF SCIENCE                              3.563333\n",
      "MA PSYCHOLOGY                                    3.515000\n",
      "MSC ANALYTICAL CHEMISTRY                         4.105000\n",
      "MSC COMPUTER SCIENCE                             3.445000\n",
      "MSC DATA SCIENCE                                 2.330000\n",
      "MSC INFORMATION TECHNOLOGY                       3.500000\n",
      "MSC MICROBIOLOGY                                 3.215000\n",
      "MSC ORGANIC CHEMISTRY                            3.880000\n",
      "MSC PHYSICS                                      3.000000\n",
      "Name: Average/ Percentage, dtype: float64\n"
     ]
    },
    {
     "data": {
      "image/png": "[encoded data removed]",
      "text/plain": [
       "<Figure size 640x480 with 1 Axes>"
      ]
     },
     "metadata": {},
     "output_type": "display_data"
    },
    {
     "data": {
      "text/plain": [
       "min    2.000\n",
       "max    4.675\n",
       "Name: Average/ Percentage, dtype: float64"
      ]
     },
     "execution_count": 64,
     "metadata": {},
     "output_type": "execute_result"
    }
   ],
   "source": [
    "df['Average/ Percentage'] = df['Average/ Percentage']\n",
    "question_eight_df = df[df['Questions'] == 'The teaching and mentoring process in your institution facilitates you in cognitive, social and\\nemotional growth.']\n",
    "average_percentage8 = question_eight_df.groupby('Basic Course')['Average/ Percentage'].mean()\n",
    "print(average_percentage8)\n",
    "sns.histplot(average_percentage8, color='red')\n",
    "plt.xlabel('Average Percentage')\n",
    "plt.ylabel('Frequency')\n",
    "plt.title('Distribution of Average Percentages')\n",
    "plt.show()\n",
    "average_percentage8.agg(['min', 'max'])"
   ]
  },
  {
   "cell_type": "markdown",
   "metadata": {},
   "source": [
    "**Observation.**\n",
    "Here's a summary of the data for question 8: \"The teaching and mentoring process in your institution facilitates you in cognitive, social and emotional growth.\"\n",
    "\n",
    "**Overall Growth:**\n",
    "\n",
    "The data shows a range of values (2.000 to 4.675) which likely represent student perceptions regarding how well the teaching and mentoring process supports their cognitive, social, and emotional growth. Higher values suggest a stronger perceived positive influence.\n",
    "**Course Types:**\n",
    "\n",
    "**Bachelor Degrees:** The average perceived growth seems to be between 3.5 and 4.0 (excluding outliers).\n",
    "**Master's Degrees:** Master's degrees generally show a wider range, from 2.33 (lowest) to 4.1 (highest). However, the sample size for Master's degrees is smaller (5) compared to Bachelor's (8), so the observation might not be statistically significant.\n",
    "**Outliers:**\n",
    "\n",
    "**BACHELOR OF ARTS:** This course has the highest reported rating (4.675). It might be worth investigating if there are specific aspects of the teaching and mentoring process in this program that are particularly beneficial for student growth.\n",
    "**B.VOC FOOD TECHNOLOGY & MSC DATA SCIENCE:** These courses have the lowest reported values (2.000 & 2.330), suggesting students perceive less facilitation of their growth in these programs. Investigating these outliers can help identify areas for improvement."
   ]
  },
  {
   "cell_type": "markdown",
   "metadata": {},
   "source": [
    "**9. The institution provides multiple opportunities to learn and grow.**"
   ]
  },
  {
   "cell_type": "code",
   "execution_count": 65,
   "metadata": {},
   "outputs": [
    {
     "name": "stdout",
     "output_type": "stream",
     "text": [
      "Basic Course\n",
      "B.SC. COMPUTER SCIENCE                           3.480000\n",
      "B.VOC FOOD TECHNOLOGY                            4.000000\n",
      "BACHELOR OF ARTS                                 3.940000\n",
      "BACHELOR OF COMMERCE                             3.645000\n",
      "BACHELOR OF COMMERCE (ACCOUNTING AND FINANCE)    4.145000\n",
      "BACHELOR OF COMMERCE (BANKING AND INSURANCE)     4.000000\n",
      "BACHELOR OF MANAGEMENT STUDIES                   4.276667\n",
      "BACHELOR OF SCIENCE                              3.880000\n",
      "MA PSYCHOLOGY                                    3.455000\n",
      "MSC ANALYTICAL CHEMISTRY                         3.605000\n",
      "MSC COMPUTER SCIENCE                             3.465000\n",
      "MSC DATA SCIENCE                                 3.000000\n",
      "MSC INFORMATION TECHNOLOGY                       4.585000\n",
      "MSC MICROBIOLOGY                                 3.250000\n",
      "MSC ORGANIC CHEMISTRY                            4.000000\n",
      "MSC PHYSICS                                      3.500000\n",
      "Name: Average/ Percentage, dtype: float64\n"
     ]
    },
    {
     "data": {
      "image/png": "[encoded data removed]",
      "text/plain": [
       "<Figure size 640x480 with 1 Axes>"
      ]
     },
     "metadata": {},
     "output_type": "display_data"
    },
    {
     "data": {
      "text/plain": [
       "min    3.000\n",
       "max    4.585\n",
       "Name: Average/ Percentage, dtype: float64"
      ]
     },
     "execution_count": 65,
     "metadata": {},
     "output_type": "execute_result"
    }
   ],
   "source": [
    "df['Average/ Percentage'] = df['Average/ Percentage']\n",
    "question_nine_df = df[df['Questions'] == 'The institution provides multiple opportunities to learn and grow.']\n",
    "average_percentage9 = question_nine_df.groupby('Basic Course')['Average/ Percentage'].mean()\n",
    "print(average_percentage9)\n",
    "sns.histplot(average_percentage9, color='red')\n",
    "plt.xlabel('Average Percentage')\n",
    "plt.ylabel('Frequency')\n",
    "plt.title('Distribution of Average Percentages')\n",
    "plt.show()\n",
    "average_percentage9.agg(['min', 'max'])"
   ]
  },
  {
   "cell_type": "markdown",
   "metadata": {},
   "source": [
    "**Observation.**\n",
    "Here's a summary of the data for question 1: \"The institution provides multiple opportunities to learn and grow.\"\n",
    "\n",
    "**Learning Opportunities:**\n",
    "\n",
    "The data shows a range of values (3.000 to 4.585) which likely represent student perceptions regarding the availability of opportunities to learn and grow at the institution. Higher values suggest a stronger positive perception.\n",
    "\n",
    "**Course Types:**\n",
    "\n",
    "It's difficult to draw clear conclusions about differences between course types (Bachelor's vs. Master's) due to the limited data points (8 Bachelor's and 5 Master's).\n",
    "**Observations:**\n",
    "\n",
    "MSC INFORMATION TECHNOLOGY: This course has the highest reported value (4.585), indicating students perceive ample opportunities to learn and grow in this program.\n",
    "MSC DATA SCIENCE: This course has the lowest reported value (3.000), suggesting students perceive fewer opportunities to learn and grow in this program area."
   ]
  },
  {
   "cell_type": "markdown",
   "metadata": {},
   "source": [
    "**10. Teachers inform you about your expected competencies, course outcomes and program\\noutcomes.**\n",
    "       "
   ]
  },
  {
   "cell_type": "code",
   "execution_count": 78,
   "metadata": {},
   "outputs": [
    {
     "name": "stdout",
     "output_type": "stream",
     "text": [
      "Basic Course\n",
      "B.SC. COMPUTER SCIENCE                           3.040000\n",
      "B.VOC FOOD TECHNOLOGY                            3.000000\n",
      "BACHELOR OF ARTS                                 4.735000\n",
      "BACHELOR OF COMMERCE                             3.935000\n",
      "BACHELOR OF COMMERCE (ACCOUNTING AND FINANCE)    4.200000\n",
      "BACHELOR OF COMMERCE (BANKING AND INSURANCE)     4.500000\n",
      "BACHELOR OF MANAGEMENT STUDIES                   4.276667\n",
      "BACHELOR OF SCIENCE                              3.896667\n",
      "MA PSYCHOLOGY                                    3.915000\n",
      "MSC ANALYTICAL CHEMISTRY                         4.070000\n",
      "MSC COMPUTER SCIENCE                             3.500000\n",
      "MSC DATA SCIENCE                                 3.665000\n",
      "MSC INFORMATION TECHNOLOGY                       4.750000\n",
      "MSC MICROBIOLOGY                                 3.450000\n",
      "MSC ORGANIC CHEMISTRY                            4.410000\n",
      "MSC PHYSICS                                      3.500000\n",
      "Name: Average/ Percentage, dtype: float64\n"
     ]
    },
    {
     "data": {
      "text/plain": [
       "min    3.00\n",
       "max    4.75\n",
       "Name: Average/ Percentage, dtype: float64"
      ]
     },
     "execution_count": 78,
     "metadata": {},
     "output_type": "execute_result"
    },
    {
     "data": {
      "image/png": "[encoded data removed]",
      "text/plain": [
       "<Figure size 640x480 with 1 Axes>"
      ]
     },
     "metadata": {},
     "output_type": "display_data"
    }
   ],
   "source": [
    "df['Average/ Percentage'] = df['Average/ Percentage']\n",
    "question_ten_df = df[df['Questions'] == 'Teachers inform you about your expected competencies, course outcomes and program\\noutcomes.']\n",
    "average_percentage10 = question_ten_df.groupby('Basic Course')['Average/ Percentage'].mean()\n",
    "print(average_percentage10)\n",
    "sns.histplot(average_percentage10, color='red')\n",
    "average_percentage10.agg(['min', 'max'])"
   ]
  },
  {
   "cell_type": "markdown",
   "metadata": {},
   "source": [
    "**Observation:**\n",
    "\n",
    "Here's a summary of the data for question 10: \"Teachers inform you about your expected competencies, course outcomes and program outcomes.\"\n",
    "\n",
    "Communication of Learning Objectives:\n",
    "\n",
    "The data shows a range of values (3.000 to 4.750) which likely represent student perceptions regarding how well teachers inform them about what they are expected to learn. Higher values suggest teachers are more successful in communicating these learning objectives.\n",
    "\n",
    "**Course Types:**\n",
    "\n",
    "**Bachelor Degrees:** The average perceived clarity of communication seems to be between 3.8 and 4.3 (excluding outliers).\n",
    "**Master's Degrees:** Master's degrees generally show a similar range (3.5 to 4.4). However, the sample size for Master's degrees is smaller (5) compared to Bachelor's (8), so the observation might not be statistically significant.\n",
    "\n",
    "**Outliers:**\n",
    "\n",
    "**BACHELOR OF ARTS & MSC INFORMATION TECHNOLOGY:** These courses have the highest reported ratings (4.735 & 4.750), indicating students perceive very clear communication of learning objectives in these programs. It might be valuable to explore what specific practices contribute to this clarity.\n",
    "**B.VOC FOOD TECHNOLOGY & MSC DATA SCIENCE:** These courses have the lowest reported values (3.000 & 3.665), suggesting room for improvement in how teachers communicate learning objectives in these programs."
   ]
  },
  {
   "cell_type": "markdown",
   "metadata": {},
   "source": [
    "**11. Your mentor does a necessary follow-up with an assigned task to you.**\n",
    "       "
   ]
  },
  {
   "cell_type": "code",
   "execution_count": 67,
   "metadata": {},
   "outputs": [
    {
     "name": "stdout",
     "output_type": "stream",
     "text": [
      "Basic Course\n",
      "B.SC. COMPUTER SCIENCE                           3.370\n",
      "B.VOC FOOD TECHNOLOGY                            3.000\n",
      "BACHELOR OF ARTS                                 4.500\n",
      "BACHELOR OF COMMERCE                             3.715\n",
      "BACHELOR OF COMMERCE (ACCOUNTING AND FINANCE)    4.115\n",
      "BACHELOR OF COMMERCE (BANKING AND INSURANCE)     4.100\n",
      "BACHELOR OF MANAGEMENT STUDIES                   3.570\n",
      "BACHELOR OF SCIENCE                              3.810\n",
      "MA PSYCHOLOGY                                    3.930\n",
      "MSC ANALYTICAL CHEMISTRY                         4.355\n",
      "MSC COMPUTER SCIENCE                             3.590\n",
      "MSC DATA SCIENCE                                 3.000\n",
      "MSC INFORMATION TECHNOLOGY                       3.750\n",
      "MSC MICROBIOLOGY                                 3.535\n",
      "MSC ORGANIC CHEMISTRY                            3.760\n",
      "MSC PHYSICS                                      2.500\n",
      "Name: Average/ Percentage, dtype: float64\n"
     ]
    },
    {
     "data": {
      "text/plain": [
       "min    2.5\n",
       "max    4.5\n",
       "Name: Average/ Percentage, dtype: float64"
      ]
     },
     "execution_count": 67,
     "metadata": {},
     "output_type": "execute_result"
    },
    {
     "data": {
      "image/png": "[encoded data removed]",
      "text/plain": [
       "<Figure size 640x480 with 1 Axes>"
      ]
     },
     "metadata": {},
     "output_type": "display_data"
    }
   ],
   "source": [
    "df['Average/ Percentage'] = df['Average/ Percentage']\n",
    "question_eleven_df = df[df['Questions'] == 'Your mentor does a necessary follow-up with an assigned task to you.']\n",
    "average_percentage11 = question_eleven_df.groupby('Basic Course')['Average/ Percentage'].mean()\n",
    "print(average_percentage11)\n",
    "sns.histplot(average_percentage11, color='red')\n",
    "average_percentage11.agg(['min', 'max'])"
   ]
  },
  {
   "cell_type": "markdown",
   "metadata": {},
   "source": [
    "**Observation.**\n",
    "\n",
    "The data shows a range of values (2.500 to 4.500) which likely represent student perceptions of how well their mentors follow up on assigned tasks. Higher values suggest students perceive more frequent or effective follow-up from their mentors.\n",
    "\n",
    "**Here's a breakdown of the data:**\n",
    "\n",
    "**Courses with High Mentor Follow-Up:**\n",
    "1. BACHELOR OF ARTS (4.500)\n",
    "2. MSC ANALYTICAL CHEMISTRY (4.355)\n",
    "3. BACHELOR OF COMMERCE (ACCOUNTING AND FINANCE) (4.115)\n",
    "4. BACHELOR OF COMMERCE (BANKING AND INSURANCE) (4.100)\n",
    "5. Courses with Low Mentor Follow-Up:\n",
    "6. MSC PHYSICS (2.500)\n",
    "7. MSC DATA SCIENCE (3.000)\n",
    "8. B.VOC FOOD TECHNOLOGY (3.000)"
   ]
  },
  {
   "cell_type": "markdown",
   "metadata": {},
   "source": [
    "**12. The teachers illustrate the concepts through examples and applications.**"
   ]
  },
  {
   "cell_type": "code",
   "execution_count": 68,
   "metadata": {},
   "outputs": [
    {
     "name": "stdout",
     "output_type": "stream",
     "text": [
      "Basic Course\n",
      "B.SC. COMPUTER SCIENCE                           3.190000\n",
      "B.VOC FOOD TECHNOLOGY                            5.000000\n",
      "BACHELOR OF ARTS                                 4.440000\n",
      "BACHELOR OF COMMERCE                             3.790000\n",
      "BACHELOR OF COMMERCE (ACCOUNTING AND FINANCE)    4.255000\n",
      "BACHELOR OF COMMERCE (BANKING AND INSURANCE)     4.100000\n",
      "BACHELOR OF MANAGEMENT STUDIES                   4.420000\n",
      "BACHELOR OF SCIENCE                              4.003333\n",
      "MA PSYCHOLOGY                                    4.170000\n",
      "MSC ANALYTICAL CHEMISTRY                         4.320000\n",
      "MSC COMPUTER SCIENCE                             4.285000\n",
      "MSC DATA SCIENCE                                 2.670000\n",
      "MSC INFORMATION TECHNOLOGY                       4.750000\n",
      "MSC MICROBIOLOGY                                 3.395000\n",
      "MSC ORGANIC CHEMISTRY                            4.240000\n",
      "MSC PHYSICS                                      4.000000\n",
      "Name: Average/ Percentage, dtype: float64\n"
     ]
    },
    {
     "data": {
      "text/plain": [
       "min    2.67\n",
       "max    5.00\n",
       "Name: Average/ Percentage, dtype: float64"
      ]
     },
     "execution_count": 68,
     "metadata": {},
     "output_type": "execute_result"
    },
    {
     "data": {
      "image/png": "[encoded data removed]",
      "text/plain": [
       "<Figure size 640x480 with 1 Axes>"
      ]
     },
     "metadata": {},
     "output_type": "display_data"
    }
   ],
   "source": [
    "df['Average/ Percentage'] = df['Average/ Percentage']\n",
    "question_twelve_df = df[df['Questions'] == 'The teachers illustrate the concepts through examples and applications.']\n",
    "average_percentage12 = question_twelve_df.groupby('Basic Course')['Average/ Percentage'].mean()\n",
    "print(average_percentage12)\n",
    "sns.histplot(average_percentage12, color='red')\n",
    "average_percentage12.agg(['min', 'max'])"
   ]
  },
  {
   "cell_type": "markdown",
   "metadata": {},
   "source": [
    "**Courses with Strong Use:**\n",
    "\n",
    "B.VOC FOOD TECHNOLOGY (highest rating): Students perceive teachers to be exceptionally effective at using examples and applications (5.000000).\n",
    "MSC INFORMATION TECHNOLOGY (4.750000)\n",
    "BACHELOR OF MANAGEMENT STUDIES (4.420000)\n",
    "BACHELOR OF ARTS (4.440000)\n",
    "\n",
    "**Courses with Lower Use:**\n",
    "\n",
    "MSC DATA SCIENCE (lowest rating): Students perceive teachers to be less effective at using examples and applications (2.670000).\n",
    "Other courses with values below 4.000000 might also warrant attention."
   ]
  },
  {
   "cell_type": "markdown",
   "metadata": {},
   "source": [
    "**13. The teachers identify your strengths and encourage you to provide the proper level of challenges.**"
   ]
  },
  {
   "cell_type": "code",
   "execution_count": 69,
   "metadata": {},
   "outputs": [
    {
     "name": "stdout",
     "output_type": "stream",
     "text": [
      "Basic Course\n",
      "B.SC. COMPUTER SCIENCE                           3.440\n",
      "B.VOC FOOD TECHNOLOGY                            2.000\n",
      "BACHELOR OF ARTS                                 4.470\n",
      "BACHELOR OF COMMERCE                             3.870\n",
      "BACHELOR OF COMMERCE (ACCOUNTING AND FINANCE)    4.200\n",
      "BACHELOR OF COMMERCE (BANKING AND INSURANCE)     4.400\n",
      "BACHELOR OF MANAGEMENT STUDIES                   4.080\n",
      "BACHELOR OF SCIENCE                              3.640\n",
      "MA PSYCHOLOGY                                    3.230\n",
      "MSC ANALYTICAL CHEMISTRY                         4.035\n",
      "MSC COMPUTER SCIENCE                             3.105\n",
      "MSC DATA SCIENCE                                 1.665\n",
      "MSC INFORMATION TECHNOLOGY                       4.335\n",
      "MSC MICROBIOLOGY                                 3.320\n",
      "MSC ORGANIC CHEMISTRY                            3.880\n",
      "MSC PHYSICS                                      3.500\n",
      "Name: Average/ Percentage, dtype: float64\n"
     ]
    },
    {
     "data": {
      "text/plain": [
       "min    1.665\n",
       "max    4.470\n",
       "Name: Average/ Percentage, dtype: float64"
      ]
     },
     "execution_count": 69,
     "metadata": {},
     "output_type": "execute_result"
    },
    {
     "data": {
      "image/png": "[encoded data removed]",
      "text/plain": [
       "<Figure size 640x480 with 1 Axes>"
      ]
     },
     "metadata": {},
     "output_type": "display_data"
    }
   ],
   "source": [
    "df['Average/ Percentage'] = df['Average/ Percentage']\n",
    "question_thirteen_df = df[df['Questions'] == 'The teachers identify your strengths and encourage you to provide the proper level of challenges.']\n",
    "average_percentage13 = question_thirteen_df.groupby('Basic Course')['Average/ Percentage'].mean()\n",
    "print(average_percentage13)\n",
    "sns.histplot(average_percentage13, color='red')\n",
    "average_percentage13.agg(['min', 'max'])"
   ]
  },
  {
   "cell_type": "markdown",
   "metadata": {},
   "source": [
    "**Observation.**\n",
    "\n",
    "1. Student perceptions vary on how well teachers identify strengths and provide challenges (1.665 to 4.470). \n",
    "2. Investigate high ratings (Bachelor of Arts) and low ratings (MSc Data Science) to understand best practices and areas for improvement. \n",
    "3. Consider clarifying the rating scale and gathering more specific feedback in future surveys."
   ]
  },
  {
   "cell_type": "markdown",
   "metadata": {},
   "source": [
    "**14. Teachers are able to identify your weaknesses and help you to overcome them.**"
   ]
  },
  {
   "cell_type": "code",
   "execution_count": 70,
   "metadata": {},
   "outputs": [
    {
     "name": "stdout",
     "output_type": "stream",
     "text": [
      "Basic Course\n",
      "B.SC. COMPUTER SCIENCE                           2.930000\n",
      "B.VOC FOOD TECHNOLOGY                            3.000000\n",
      "BACHELOR OF ARTS                                 4.530000\n",
      "BACHELOR OF COMMERCE                             3.670000\n",
      "BACHELOR OF COMMERCE (ACCOUNTING AND FINANCE)    3.945000\n",
      "BACHELOR OF COMMERCE (BANKING AND INSURANCE)     4.350000\n",
      "BACHELOR OF MANAGEMENT STUDIES                   4.543333\n",
      "BACHELOR OF SCIENCE                              3.603333\n",
      "MA PSYCHOLOGY                                    2.915000\n",
      "MSC ANALYTICAL CHEMISTRY                         3.645000\n",
      "MSC COMPUTER SCIENCE                             3.625000\n",
      "MSC DATA SCIENCE                                 2.835000\n",
      "MSC INFORMATION TECHNOLOGY                       4.085000\n",
      "MSC MICROBIOLOGY                                 3.730000\n",
      "MSC ORGANIC CHEMISTRY                            3.760000\n",
      "MSC PHYSICS                                      3.000000\n",
      "Name: Average/ Percentage, dtype: float64\n"
     ]
    },
    {
     "data": {
      "text/plain": [
       "min    2.835000\n",
       "max    4.543333\n",
       "Name: Average/ Percentage, dtype: float64"
      ]
     },
     "execution_count": 70,
     "metadata": {},
     "output_type": "execute_result"
    },
    {
     "data": {
      "image/png": "[encoded data removed]",
      "text/plain": [
       "<Figure size 640x480 with 1 Axes>"
      ]
     },
     "metadata": {},
     "output_type": "display_data"
    }
   ],
   "source": [
    "df['Average/ Percentage'] = df['Average/ Percentage']\n",
    "question_fourteen_df = df[df['Questions'] == 'Teachers are able to identify your weaknesses and help you to overcome them.']\n",
    "average_percentage14 = question_fourteen_df.groupby('Basic Course')['Average/ Percentage'].mean()\n",
    "print(average_percentage14)\n",
    "sns.histplot(average_percentage14, color='red')\n",
    "average_percentage14.agg(['min', 'max'])"
   ]
  },
  {
   "cell_type": "markdown",
   "metadata": {},
   "source": [
    "**Observation.**\n",
    "\n",
    "The data shows students have mixed perceptions (2.835 to 4.543) on how well teachers identify weaknesses and help them improve. Here's a quick summary:\n",
    "\n",
    "**High Ratings:**\n",
    "\n",
    "BACHELOR OF ARTS (4.530) & BACHELOR OF MANAGEMENT STUDIES (4.543) - Students perceive teachers are highly effective in this area.\n",
    "\n",
    "**Low Ratings:**\n",
    "\n",
    "MSC DATA SCIENCE (2.835) & MA PSYCHOLOGY (2.915) - These courses have the lowest ratings, suggesting room for improvement.\n",
    "Investigate both ends (high & low) to understand best practices and areas for improvement."
   ]
  },
  {
   "cell_type": "markdown",
   "metadata": {},
   "source": [
    "**15. The institution makes effort to engage students in the monitoring, review and continuous quality improvement of the teaching-learning process.**"
   ]
  },
  {
   "cell_type": "code",
   "execution_count": 71,
   "metadata": {},
   "outputs": [
    {
     "name": "stdout",
     "output_type": "stream",
     "text": [
      "Basic Course\n",
      "B.SC. COMPUTER SCIENCE                           3.370000\n",
      "B.VOC FOOD TECHNOLOGY                            3.000000\n",
      "BACHELOR OF ARTS                                 3.970000\n",
      "BACHELOR OF COMMERCE                             3.580000\n",
      "BACHELOR OF COMMERCE (ACCOUNTING AND FINANCE)    4.020000\n",
      "BACHELOR OF COMMERCE (BANKING AND INSURANCE)     4.300000\n",
      "BACHELOR OF MANAGEMENT STUDIES                   4.246667\n",
      "BACHELOR OF SCIENCE                              3.863333\n",
      "MA PSYCHOLOGY                                    3.555000\n",
      "MSC ANALYTICAL CHEMISTRY                         4.145000\n",
      "MSC COMPUTER SCIENCE                             3.770000\n",
      "MSC DATA SCIENCE                                 3.000000\n",
      "MSC INFORMATION TECHNOLOGY                       4.165000\n",
      "MSC MICROBIOLOGY                                 3.355000\n",
      "MSC ORGANIC CHEMISTRY                            3.940000\n",
      "MSC PHYSICS                                      3.500000\n",
      "Name: Average/ Percentage, dtype: float64\n"
     ]
    },
    {
     "data": {
      "text/plain": [
       "min    3.0\n",
       "max    4.3\n",
       "Name: Average/ Percentage, dtype: float64"
      ]
     },
     "execution_count": 71,
     "metadata": {},
     "output_type": "execute_result"
    },
    {
     "data": {
      "image/png": "[encoded data removed]",
      "text/plain": [
       "<Figure size 640x480 with 1 Axes>"
      ]
     },
     "metadata": {},
     "output_type": "display_data"
    }
   ],
   "source": [
    "df['Average/ Percentage'] = df['Average/ Percentage']\n",
    "question_fifteen_df = df[df['Questions'] == 'The institution makes effort to engage students in the monitoring, review and continuous quality improvement of the teaching-learning process.']\n",
    "average_percentage15 = question_fifteen_df.groupby('Basic Course')['Average/ Percentage'].mean()\n",
    "print(average_percentage15)\n",
    "sns.histplot(average_percentage15, color='red')\n",
    "average_percentage15.agg(['min', 'max'])"
   ]
  },
  {
   "cell_type": "markdown",
   "metadata": {},
   "source": [
    "The data shows a range of student perceptions (3.000 to 4.300) on how well the institution engages them in monitoring, reviewing, and improving the teaching-learning process (on a 5-point scale). Here's a breakdown:\n",
    "\n",
    "**Higher Engagement:**\n",
    "\n",
    "BACHELOR OF COMMERCE (BANKING AND INSURANCE) (4.300) - Students perceive the strongest efforts to engage them in improvement processes.\n",
    "Other courses with values above 4.000 might also indicate good engagement (e.g., BACHELOR OF COMMERCE (ACCOUNTING AND FINANCE), BACHELOR OF MANAGEMENT STUDIES).\n",
    "\n",
    "**Lower Engagement:**\n",
    "\n",
    "B.VOC FOOD TECHNOLOGY & MSC DATA SCIENCE (3.000) - Students perceive the least effort to engage them.\n",
    "Other courses with values below 3.500 might also warrant attention."
   ]
  },
  {
   "cell_type": "markdown",
   "metadata": {},
   "source": [
    "**16. The institute/ teachers use student-centric methods, such as experiential learning, participative learning and problem-solving methodologies for enhancing learning experiences.**"
   ]
  },
  {
   "cell_type": "code",
   "execution_count": 72,
   "metadata": {},
   "outputs": [
    {
     "name": "stdout",
     "output_type": "stream",
     "text": [
      "Basic Course\n",
      "B.SC. COMPUTER SCIENCE                           3.190000\n",
      "B.VOC FOOD TECHNOLOGY                            3.000000\n",
      "BACHELOR OF ARTS                                 4.030000\n",
      "BACHELOR OF COMMERCE                             3.515000\n",
      "BACHELOR OF COMMERCE (ACCOUNTING AND FINANCE)    4.025000\n",
      "BACHELOR OF COMMERCE (BANKING AND INSURANCE)     4.300000\n",
      "BACHELOR OF MANAGEMENT STUDIES                   4.033333\n",
      "BACHELOR OF SCIENCE                              3.796667\n",
      "MA PSYCHOLOGY                                    3.755000\n",
      "MSC ANALYTICAL CHEMISTRY                         4.395000\n",
      "MSC COMPUTER SCIENCE                             4.090000\n",
      "MSC DATA SCIENCE                                 3.170000\n",
      "MSC INFORMATION TECHNOLOGY                       4.085000\n",
      "MSC MICROBIOLOGY                                 3.595000\n",
      "MSC ORGANIC CHEMISTRY                            3.940000\n",
      "MSC PHYSICS                                      2.500000\n",
      "Name: Average/ Percentage, dtype: float64\n"
     ]
    },
    {
     "data": {
      "text/plain": [
       "min    2.500\n",
       "max    4.395\n",
       "Name: Average/ Percentage, dtype: float64"
      ]
     },
     "execution_count": 72,
     "metadata": {},
     "output_type": "execute_result"
    },
    {
     "data": {
      "image/png": "[encoded data removed]",
      "text/plain": [
       "<Figure size 640x480 with 1 Axes>"
      ]
     },
     "metadata": {},
     "output_type": "display_data"
    }
   ],
   "source": [
    "df['Average/ Percentage'] = df['Average/ Percentage']\n",
    "question_sixteen_df = df[df['Questions'] == 'The institute/ teachers use student-centric methods, such as experiential learning, participative learning and problem-solving methodologies for enhancing learning experiences.']\n",
    "average_percentage16 = question_sixteen_df.groupby('Basic Course')['Average/ Percentage'].mean()\n",
    "print(average_percentage16)\n",
    "sns.histplot(df, x= average_percentage16, color='red')\n",
    "average_percentage16.agg(['min', 'max'])"
   ]
  },
  {
   "cell_type": "markdown",
   "metadata": {},
   "source": [
    "**Observation.**\n",
    "\n",
    "The data shows a range of student perceptions (2.500 to 4.395) on how well teachers use student-centered methods (on a possible 5-point scale). Here's a breakdown:\n",
    "\n",
    "**Strong Use of Student-Centered Methods:**\n",
    "\n",
    "MSC ANALYTICAL CHEMISTRY (4.395) - Students perceive the strongest use of methods like experiential learning, participatory learning, and problem-solving.\n",
    "Other courses with values above 4.000 might also indicate strong use (e.g., BACHELOR OF COMMERCE (BANKING AND INSURANCE), MSC INFORMATION TECHNOLOGY).\n",
    "\n",
    "**Lower Use of Student-Centered Methods:**\n",
    "\n",
    "MSC PHYSICS (2.500) - Students perceive the least use of student-centered methods in this program.\n",
    "Other courses with values below 3.500 might also warrant attention."
   ]
  },
  {
   "cell_type": "markdown",
   "metadata": {},
   "source": [
    "**17. Teachers encourage you to participate in extracurricular activities.**"
   ]
  },
  {
   "cell_type": "code",
   "execution_count": 73,
   "metadata": {},
   "outputs": [
    {
     "name": "stdout",
     "output_type": "stream",
     "text": [
      "Basic Course\n",
      "B.SC. COMPUTER SCIENCE                           3.150000\n",
      "B.VOC FOOD TECHNOLOGY                            4.000000\n",
      "BACHELOR OF ARTS                                 4.030000\n",
      "BACHELOR OF COMMERCE                             3.700000\n",
      "BACHELOR OF COMMERCE (ACCOUNTING AND FINANCE)    4.285000\n",
      "BACHELOR OF COMMERCE (BANKING AND INSURANCE)     4.300000\n",
      "BACHELOR OF MANAGEMENT STUDIES                   4.146667\n",
      "BACHELOR OF SCIENCE                              4.183333\n",
      "MA PSYCHOLOGY                                    3.785000\n",
      "MSC ANALYTICAL CHEMISTRY                         4.000000\n",
      "MSC COMPUTER SCIENCE                             3.785000\n",
      "MSC DATA SCIENCE                                 3.335000\n",
      "MSC INFORMATION TECHNOLOGY                       4.165000\n",
      "MSC MICROBIOLOGY                                 3.285000\n",
      "MSC ORGANIC CHEMISTRY                            3.940000\n",
      "MSC PHYSICS                                      4.000000\n",
      "Name: Average/ Percentage, dtype: float64\n"
     ]
    },
    {
     "data": {
      "text/plain": [
       "min    3.15\n",
       "max    4.30\n",
       "Name: Average/ Percentage, dtype: float64"
      ]
     },
     "execution_count": 73,
     "metadata": {},
     "output_type": "execute_result"
    },
    {
     "data": {
      "image/png": "[encoded data removed]",
      "text/plain": [
       "<Figure size 640x480 with 1 Axes>"
      ]
     },
     "metadata": {},
     "output_type": "display_data"
    }
   ],
   "source": [
    "df['Average/ Percentage'] = df['Average/ Percentage']\n",
    "question_seventeen_df = df[df['Questions'] == 'Teachers encourage you to participate in extracurricular activities.']\n",
    "average_percentage17 = question_seventeen_df.groupby('Basic Course')['Average/ Percentage'].mean()\n",
    "print(average_percentage17)\n",
    "sns.histplot(average_percentage17, color='red')\n",
    "average_percentage17.agg(['min', 'max'])"
   ]
  },
  {
   "cell_type": "markdown",
   "metadata": {},
   "source": [
    "**Observation.**\n",
    "\n",
    "The data shows a range of student perceptions (3.150 to 4.300) on how well teachers encourage participation in extracurricular activities (on a possible 5-point scale). Here's a summary:\n",
    "\n",
    "**Strongest Encouragement:**\n",
    "\n",
    "BACHELOR OF COMMERCE (BANKING AND INSURANCE) (4.300) - Students perceive the most encouragement from teachers to participate in extracurricular activities.\n",
    "Other courses with values above 4.000 might also indicate strong encouragement.\n",
    "\n",
    "**Lower Encouragement:**\n",
    "\n",
    "B.SC. COMPUTER SCIENCE (3.150) - Students perceive the least encouragement from teachers in this program.\n",
    "Other courses with values below 3.500 might also warrant attention."
   ]
  },
  {
   "cell_type": "markdown",
   "metadata": {},
   "source": [
    "**18. Efforts are made by the institute/ teachers to inculcate soft skills, life skills and employability skills to make you ready for the world of work.**"
   ]
  },
  {
   "cell_type": "code",
   "execution_count": 74,
   "metadata": {},
   "outputs": [
    {
     "name": "stdout",
     "output_type": "stream",
     "text": [
      "Basic Course\n",
      "B.SC. COMPUTER SCIENCE                           3.220000\n",
      "B.VOC FOOD TECHNOLOGY                            2.000000\n",
      "BACHELOR OF ARTS                                 4.000000\n",
      "BACHELOR OF COMMERCE                             3.730000\n",
      "BACHELOR OF COMMERCE (ACCOUNTING AND FINANCE)    4.065000\n",
      "BACHELOR OF COMMERCE (BANKING AND INSURANCE)     4.350000\n",
      "BACHELOR OF MANAGEMENT STUDIES                   4.230000\n",
      "BACHELOR OF SCIENCE                              3.976667\n",
      "MA PSYCHOLOGY                                    3.485000\n",
      "MSC ANALYTICAL CHEMISTRY                         4.320000\n",
      "MSC COMPUTER SCIENCE                             3.945000\n",
      "MSC DATA SCIENCE                                 3.000000\n",
      "MSC INFORMATION TECHNOLOGY                       4.750000\n",
      "MSC MICROBIOLOGY                                 3.730000\n",
      "MSC ORGANIC CHEMISTRY                            4.000000\n",
      "MSC PHYSICS                                      3.500000\n",
      "Name: Average/ Percentage, dtype: float64\n"
     ]
    },
    {
     "data": {
      "text/plain": [
       "min    2.00\n",
       "max    4.75\n",
       "Name: Average/ Percentage, dtype: float64"
      ]
     },
     "execution_count": 74,
     "metadata": {},
     "output_type": "execute_result"
    },
    {
     "data": {
      "image/png": "[encoded data removed]",
      "text/plain": [
       "<Figure size 640x480 with 1 Axes>"
      ]
     },
     "metadata": {},
     "output_type": "display_data"
    }
   ],
   "source": [
    "df['Average/ Percentage'] = df['Average/ Percentage']\n",
    "question_eightteen_df = df[df['Questions'] == 'Efforts are made by the institute/ teachers to inculcate soft skills, life skills and employability skills to make you ready for the world of work.']\n",
    "average_percentage18 = question_eightteen_df.groupby('Basic Course')['Average/ Percentage'].mean()\n",
    "print(average_percentage18)\n",
    "sns.histplot(average_percentage18, color='red')\n",
    "average_percentage18.agg(['min', 'max'])"
   ]
  },
  {
   "cell_type": "markdown",
   "metadata": {},
   "source": [
    "**Observation.**\n",
    "\n",
    "The data indicates a variation in student perceptions (2.000 to 4.750) on how well the institute and teachers focus on developing soft skills, life skills, and employability skills (on a possible 5-point scale). Here's a breakdown:\n",
    "\n",
    "**Strongest Efforts:**\n",
    "\n",
    "MSC INFORMATION TECHNOLOGY (4.750) - Students perceive the strongest efforts in this program to develop well-rounded graduates prepared for the workplace.\n",
    "Other courses with values above 4.000 might also indicate strong efforts (e.g., BACHELOR OF COMMERCE (BANKING AND INSURANCE), BACHELOR OF COMMERCE (ACCOUNTING AND FINANCE), BACHELOR OF MANAGEMENT STUDIES).\n",
    "\n",
    "**Lower Efforts:**\n",
    "\n",
    "B.VOC FOOD TECHNOLOGY (2.000) - Students perceive the least effort in this program to develop these skills.\n",
    "Other courses with values below 3.500 might also warrant attention."
   ]
  },
  {
   "cell_type": "markdown",
   "metadata": {},
   "source": [
    "**19. What percentage of teachers use ICT tools such as LCD projectors, Multimedia, etc. while teaching?**"
   ]
  },
  {
   "cell_type": "code",
   "execution_count": 75,
   "metadata": {},
   "outputs": [
    {
     "name": "stdout",
     "output_type": "stream",
     "text": [
      "Basic Course\n",
      "B.SC. COMPUTER SCIENCE                           3.520000\n",
      "B.VOC FOOD TECHNOLOGY                            4.000000\n",
      "BACHELOR OF ARTS                                 4.380000\n",
      "BACHELOR OF COMMERCE                             2.980000\n",
      "BACHELOR OF COMMERCE (ACCOUNTING AND FINANCE)    3.050000\n",
      "BACHELOR OF COMMERCE (BANKING AND INSURANCE)     4.400000\n",
      "BACHELOR OF MANAGEMENT STUDIES                   3.453333\n",
      "BACHELOR OF SCIENCE                              3.256667\n",
      "MA PSYCHOLOGY                                    2.785000\n",
      "MSC ANALYTICAL CHEMISTRY                         3.355000\n",
      "MSC COMPUTER SCIENCE                             4.535000\n",
      "MSC DATA SCIENCE                                 4.000000\n",
      "MSC INFORMATION TECHNOLOGY                       4.250000\n",
      "MSC MICROBIOLOGY                                 3.415000\n",
      "MSC ORGANIC CHEMISTRY                            3.350000\n",
      "MSC PHYSICS                                      3.000000\n",
      "Name: Average/ Percentage, dtype: float64\n"
     ]
    },
    {
     "data": {
      "text/plain": [
       "min    2.785\n",
       "max    4.535\n",
       "Name: Average/ Percentage, dtype: float64"
      ]
     },
     "execution_count": 75,
     "metadata": {},
     "output_type": "execute_result"
    },
    {
     "data": {
      "image/png": "[encoded data removed]",
      "text/plain": [
       "<Figure size 640x480 with 1 Axes>"
      ]
     },
     "metadata": {},
     "output_type": "display_data"
    }
   ],
   "source": [
    "df['Average/ Percentage'] = df['Average/ Percentage']\n",
    "question_nineteen_df = df[df['Questions'] == 'What percentage of teachers use ICT tools such as LCD projectors, Multimedia, etc. while teaching?']\n",
    "average_percentage19 = question_nineteen_df.groupby('Basic Course')['Average/ Percentage'].mean()\n",
    "print(average_percentage19)\n",
    "sns.histplot(average_percentage19, color='red')\n",
    "average_percentage19.agg(['min', 'max'])"
   ]
  },
  {
   "cell_type": "markdown",
   "metadata": {},
   "source": [
    "**Observation.**\n",
    "\n",
    "The data for question 19 likely represents student perceptions of how frequently teachers use ICT tools while teaching (possibly on a 1-5 scale). Here's a breakdown assuming a 5-point scale represents \"never\" to \"always\":\n",
    "\n",
    "**High Usage:**\n",
    "\n",
    "B.VOC FOOD TECHNOLOGY (4.000) - Students perceive the highest use of ICT tools in this program.\n",
    "Other courses with values above 3.500 might also indicate frequent use (e.g., BACHELOR OF ARTS, BACHELOR OF COMMERCE (BANKING AND INSURANCE), MSC DATA SCIENCE, MSC INFORMATION TECHNOLOGY).\n",
    "\n",
    "**Lower Usage:**\n",
    "\n",
    "MA PSYCHOLOGY (2.785) & BACHELOR OF COMMERCE (2.980) - Students perceive the least use of ICT tools in these programs.\n",
    "Other courses with values below 3.000 might also warrant attention (e.g., BACHELOR OF COMMERCE (ACCOUNTING AND FINANCE), MSC PHYSICS)"
   ]
  },
  {
   "cell_type": "markdown",
   "metadata": {},
   "source": [
    "**20. The overall quality of the teaching-learning process in your institute is very good.**"
   ]
  },
  {
   "cell_type": "code",
   "execution_count": 76,
   "metadata": {},
   "outputs": [
    {
     "name": "stdout",
     "output_type": "stream",
     "text": [
      "Basic Course\n",
      "B.SC. COMPUTER SCIENCE                           3.520000\n",
      "B.VOC FOOD TECHNOLOGY                            4.000000\n",
      "BACHELOR OF ARTS                                 4.380000\n",
      "BACHELOR OF COMMERCE                             2.980000\n",
      "BACHELOR OF COMMERCE (ACCOUNTING AND FINANCE)    3.050000\n",
      "BACHELOR OF COMMERCE (BANKING AND INSURANCE)     4.400000\n",
      "BACHELOR OF MANAGEMENT STUDIES                   3.453333\n",
      "BACHELOR OF SCIENCE                              3.256667\n",
      "MA PSYCHOLOGY                                    2.785000\n",
      "MSC ANALYTICAL CHEMISTRY                         3.355000\n",
      "MSC COMPUTER SCIENCE                             4.535000\n",
      "MSC DATA SCIENCE                                 4.000000\n",
      "MSC INFORMATION TECHNOLOGY                       4.250000\n",
      "MSC MICROBIOLOGY                                 3.415000\n",
      "MSC ORGANIC CHEMISTRY                            3.350000\n",
      "MSC PHYSICS                                      3.000000\n",
      "Name: Average/ Percentage, dtype: float64\n"
     ]
    },
    {
     "data": {
      "text/plain": [
       "min    2.785\n",
       "max    4.535\n",
       "Name: Average/ Percentage, dtype: float64"
      ]
     },
     "execution_count": 76,
     "metadata": {},
     "output_type": "execute_result"
    },
    {
     "data": {
      "image/png": "[encoded data removed]",
      "text/plain": [
       "<Figure size 640x480 with 1 Axes>"
      ]
     },
     "metadata": {},
     "output_type": "display_data"
    }
   ],
   "source": [
    "df['Average/ Percentage'] = df['Average/ Percentage']\n",
    "question_twenty_df = df[df['Questions'] == 'What percentage of teachers use ICT tools such as LCD projectors, Multimedia, etc. while teaching?']\n",
    "average_percentage20 = question_twenty_df.groupby('Basic Course')['Average/ Percentage'].mean()\n",
    "print(average_percentage20)\n",
    "sns.histplot(average_percentage20, color='red')\n",
    "average_percentage20.agg(['min', 'max'])"
   ]
  },
  {
   "cell_type": "markdown",
   "metadata": {},
   "source": [
    "**Observation.**\n",
    "\n",
    "Student perceptions of teaching quality vary (2.785 to 4.535). Investigate high-rated programs (Bachelor of Arts, Banking & Insurance) to understand best practices. Address areas needing improvement (e.g., Bachelor of Commerce) through targeted surveys. Clarify rating scale for future surveys."
   ]
  },
  {
   "cell_type": "markdown",
   "metadata": {},
   "source": [
    "**Recommendations:**\n",
    "\n",
    "Investigate best practices: Explore how programs with high ratings (e.g., Bachelor of Arts, Bachelor of Commerce (Banking and Insurance)) effectively structure their teaching and learning. This could involve factors like curriculum design, classroom pedagogy, or student support services.\n",
    "Address areas for improvement: Identify areas needing improvement in programs with lower ratings (e.g., Bachelor of Commerce). Gather more specific feedback through surveys or focus groups to understand student concerns."
   ]
  }
 ],
 "metadata": {
  "kernelspec": {
   "display_name": "tf_env",
   "language": "python",
   "name": "python3"
  },
  "language_info": {
   "codemirror_mode": {
    "name": "ipython",
    "version": 3
   },
   "file_extension": ".py",
   "mimetype": "text/x-python",
   "name": "python",
   "nbconvert_exporter": "python",
   "pygments_lexer": "ipython3",
   "version": "3.9.19"
  }
 },
 "nbformat": 4,
 "nbformat_minor": 2
}
